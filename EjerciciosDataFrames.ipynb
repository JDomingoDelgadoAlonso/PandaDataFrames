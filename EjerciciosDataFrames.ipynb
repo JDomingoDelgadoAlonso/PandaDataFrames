{
 "cells": [
  {
   "cell_type": "markdown",
   "metadata": {},
   "source": [
    "## Creación e inspección de Dataframes."
   ]
  },
  {
   "cell_type": "markdown",
   "metadata": {},
   "source": [
    "### 1. Crear un objeto de la clase DataFrame."
   ]
  },
  {
   "cell_type": "code",
   "execution_count": 2,
   "metadata": {},
   "outputs": [
    {
     "name": "stdout",
     "output_type": "stream",
     "text": [
      "2.2.2\n",
      "      longitud  latitud  edad_media_vivienda  total_habitaciones  \\\n",
      "0      -122.05    37.37                 27.0              3885.0   \n",
      "1      -118.30    34.26                 43.0              1510.0   \n",
      "2      -117.81    33.78                 27.0              3589.0   \n",
      "3      -118.36    33.82                 28.0                67.0   \n",
      "4      -119.67    36.33                 19.0              1241.0   \n",
      "...        ...      ...                  ...                 ...   \n",
      "2995   -119.86    34.42                 23.0              1450.0   \n",
      "2996   -118.14    34.06                 27.0              5257.0   \n",
      "2997   -119.70    36.30                 10.0               956.0   \n",
      "2998   -117.12    34.10                 40.0                96.0   \n",
      "2999   -119.63    34.42                 42.0              1765.0   \n",
      "\n",
      "      total_dormitorios  población  hogares  ingreso_medio  \\\n",
      "0                 661.0     1537.0    606.0         6.6085   \n",
      "1                 310.0      809.0    277.0         3.5990   \n",
      "2                 507.0     1484.0    495.0         5.7934   \n",
      "3                  15.0       49.0     11.0         6.1359   \n",
      "4                 244.0      850.0    237.0         2.9375   \n",
      "...                 ...        ...      ...            ...   \n",
      "2995              642.0     1258.0    607.0         1.1790   \n",
      "2996             1082.0     3496.0   1036.0         3.3906   \n",
      "2997              201.0      693.0    220.0         2.2895   \n",
      "2998               14.0       46.0     14.0         3.2708   \n",
      "2999              263.0      753.0    260.0         8.5608   \n",
      "\n",
      "      valor_medio_vivienda  \n",
      "0                 344700.0  \n",
      "1                 176500.0  \n",
      "2                 270500.0  \n",
      "3                 330000.0  \n",
      "4                  81700.0  \n",
      "...                    ...  \n",
      "2995              225000.0  \n",
      "2996              237200.0  \n",
      "2997               62000.0  \n",
      "2998              162500.0  \n",
      "2999              500001.0  \n",
      "\n",
      "[3000 rows x 9 columns]\n"
     ]
    }
   ],
   "source": [
    "import pandas as pd\n",
    "import numpy as np\n",
    "import matplotlib.pyplot as plt\n",
    "print(pd.__version__)\n",
    "df = pd.read_csv(\"california_housing_test.csv\", sep=\",\")\n",
    "df.columns=[\"longitud\", \"latitud\", \"edad_media_vivienda\", \"total_habitaciones\", \n",
    "              \"total_dormitorios\", \"población\", \"hogares\", \"ingreso_medio\", \"valor_medio_vivienda\"]\n",
    "print(df)"
   ]
  },
  {
   "cell_type": "markdown",
   "metadata": {},
   "source": [
    "### 2. Leer un archivo CSV con la función read_csv para crear un DataFrame."
   ]
  },
  {
   "cell_type": "code",
   "execution_count": 71,
   "metadata": {},
   "outputs": [
    {
     "data": {
      "text/html": [
       "<div>\n",
       "<style scoped>\n",
       "    .dataframe tbody tr th:only-of-type {\n",
       "        vertical-align: middle;\n",
       "    }\n",
       "\n",
       "    .dataframe tbody tr th {\n",
       "        vertical-align: top;\n",
       "    }\n",
       "\n",
       "    .dataframe thead th {\n",
       "        text-align: right;\n",
       "    }\n",
       "</style>\n",
       "<table border=\"1\" class=\"dataframe\">\n",
       "  <thead>\n",
       "    <tr style=\"text-align: right;\">\n",
       "      <th></th>\n",
       "      <th>longitud</th>\n",
       "      <th>latitud</th>\n",
       "      <th>edad_media_vivienda</th>\n",
       "      <th>total_habitaciones</th>\n",
       "      <th>total_dormitorios</th>\n",
       "      <th>población</th>\n",
       "      <th>hogares</th>\n",
       "      <th>ingreso_medio</th>\n",
       "      <th>valor_medio_vivienda</th>\n",
       "    </tr>\n",
       "  </thead>\n",
       "  <tbody>\n",
       "    <tr>\n",
       "      <th>0</th>\n",
       "      <td>-122.05</td>\n",
       "      <td>37.37</td>\n",
       "      <td>27.0</td>\n",
       "      <td>3885.0</td>\n",
       "      <td>661.0</td>\n",
       "      <td>1537.0</td>\n",
       "      <td>606.0</td>\n",
       "      <td>6.6085</td>\n",
       "      <td>344700.0</td>\n",
       "    </tr>\n",
       "    <tr>\n",
       "      <th>1</th>\n",
       "      <td>-118.30</td>\n",
       "      <td>34.26</td>\n",
       "      <td>43.0</td>\n",
       "      <td>1510.0</td>\n",
       "      <td>310.0</td>\n",
       "      <td>809.0</td>\n",
       "      <td>277.0</td>\n",
       "      <td>3.5990</td>\n",
       "      <td>176500.0</td>\n",
       "    </tr>\n",
       "    <tr>\n",
       "      <th>2</th>\n",
       "      <td>-117.81</td>\n",
       "      <td>33.78</td>\n",
       "      <td>27.0</td>\n",
       "      <td>3589.0</td>\n",
       "      <td>507.0</td>\n",
       "      <td>1484.0</td>\n",
       "      <td>495.0</td>\n",
       "      <td>5.7934</td>\n",
       "      <td>270500.0</td>\n",
       "    </tr>\n",
       "    <tr>\n",
       "      <th>3</th>\n",
       "      <td>-118.36</td>\n",
       "      <td>33.82</td>\n",
       "      <td>28.0</td>\n",
       "      <td>67.0</td>\n",
       "      <td>15.0</td>\n",
       "      <td>49.0</td>\n",
       "      <td>11.0</td>\n",
       "      <td>6.1359</td>\n",
       "      <td>330000.0</td>\n",
       "    </tr>\n",
       "    <tr>\n",
       "      <th>4</th>\n",
       "      <td>-119.67</td>\n",
       "      <td>36.33</td>\n",
       "      <td>19.0</td>\n",
       "      <td>1241.0</td>\n",
       "      <td>244.0</td>\n",
       "      <td>850.0</td>\n",
       "      <td>237.0</td>\n",
       "      <td>2.9375</td>\n",
       "      <td>81700.0</td>\n",
       "    </tr>\n",
       "    <tr>\n",
       "      <th>...</th>\n",
       "      <td>...</td>\n",
       "      <td>...</td>\n",
       "      <td>...</td>\n",
       "      <td>...</td>\n",
       "      <td>...</td>\n",
       "      <td>...</td>\n",
       "      <td>...</td>\n",
       "      <td>...</td>\n",
       "      <td>...</td>\n",
       "    </tr>\n",
       "    <tr>\n",
       "      <th>2995</th>\n",
       "      <td>-119.86</td>\n",
       "      <td>34.42</td>\n",
       "      <td>23.0</td>\n",
       "      <td>1450.0</td>\n",
       "      <td>642.0</td>\n",
       "      <td>1258.0</td>\n",
       "      <td>607.0</td>\n",
       "      <td>1.1790</td>\n",
       "      <td>225000.0</td>\n",
       "    </tr>\n",
       "    <tr>\n",
       "      <th>2996</th>\n",
       "      <td>-118.14</td>\n",
       "      <td>34.06</td>\n",
       "      <td>27.0</td>\n",
       "      <td>5257.0</td>\n",
       "      <td>1082.0</td>\n",
       "      <td>3496.0</td>\n",
       "      <td>1036.0</td>\n",
       "      <td>3.3906</td>\n",
       "      <td>237200.0</td>\n",
       "    </tr>\n",
       "    <tr>\n",
       "      <th>2997</th>\n",
       "      <td>-119.70</td>\n",
       "      <td>36.30</td>\n",
       "      <td>10.0</td>\n",
       "      <td>956.0</td>\n",
       "      <td>201.0</td>\n",
       "      <td>693.0</td>\n",
       "      <td>220.0</td>\n",
       "      <td>2.2895</td>\n",
       "      <td>62000.0</td>\n",
       "    </tr>\n",
       "    <tr>\n",
       "      <th>2998</th>\n",
       "      <td>-117.12</td>\n",
       "      <td>34.10</td>\n",
       "      <td>40.0</td>\n",
       "      <td>96.0</td>\n",
       "      <td>14.0</td>\n",
       "      <td>46.0</td>\n",
       "      <td>14.0</td>\n",
       "      <td>3.2708</td>\n",
       "      <td>162500.0</td>\n",
       "    </tr>\n",
       "    <tr>\n",
       "      <th>2999</th>\n",
       "      <td>-119.63</td>\n",
       "      <td>34.42</td>\n",
       "      <td>42.0</td>\n",
       "      <td>1765.0</td>\n",
       "      <td>263.0</td>\n",
       "      <td>753.0</td>\n",
       "      <td>260.0</td>\n",
       "      <td>8.5608</td>\n",
       "      <td>500001.0</td>\n",
       "    </tr>\n",
       "  </tbody>\n",
       "</table>\n",
       "<p>3000 rows × 9 columns</p>\n",
       "</div>"
      ],
      "text/plain": [
       "      longitud  latitud  edad_media_vivienda  total_habitaciones  \\\n",
       "0      -122.05    37.37                 27.0              3885.0   \n",
       "1      -118.30    34.26                 43.0              1510.0   \n",
       "2      -117.81    33.78                 27.0              3589.0   \n",
       "3      -118.36    33.82                 28.0                67.0   \n",
       "4      -119.67    36.33                 19.0              1241.0   \n",
       "...        ...      ...                  ...                 ...   \n",
       "2995   -119.86    34.42                 23.0              1450.0   \n",
       "2996   -118.14    34.06                 27.0              5257.0   \n",
       "2997   -119.70    36.30                 10.0               956.0   \n",
       "2998   -117.12    34.10                 40.0                96.0   \n",
       "2999   -119.63    34.42                 42.0              1765.0   \n",
       "\n",
       "      total_dormitorios  población  hogares  ingreso_medio  \\\n",
       "0                 661.0     1537.0    606.0         6.6085   \n",
       "1                 310.0      809.0    277.0         3.5990   \n",
       "2                 507.0     1484.0    495.0         5.7934   \n",
       "3                  15.0       49.0     11.0         6.1359   \n",
       "4                 244.0      850.0    237.0         2.9375   \n",
       "...                 ...        ...      ...            ...   \n",
       "2995              642.0     1258.0    607.0         1.1790   \n",
       "2996             1082.0     3496.0   1036.0         3.3906   \n",
       "2997              201.0      693.0    220.0         2.2895   \n",
       "2998               14.0       46.0     14.0         3.2708   \n",
       "2999              263.0      753.0    260.0         8.5608   \n",
       "\n",
       "      valor_medio_vivienda  \n",
       "0                 344700.0  \n",
       "1                 176500.0  \n",
       "2                 270500.0  \n",
       "3                 330000.0  \n",
       "4                  81700.0  \n",
       "...                    ...  \n",
       "2995              225000.0  \n",
       "2996              237200.0  \n",
       "2997               62000.0  \n",
       "2998              162500.0  \n",
       "2999              500001.0  \n",
       "\n",
       "[3000 rows x 9 columns]"
      ]
     },
     "execution_count": 71,
     "metadata": {},
     "output_type": "execute_result"
    }
   ],
   "source": [
    "#Lo hice en el apartado anterior:\n",
    "df"
   ]
  },
  {
   "cell_type": "markdown",
   "metadata": {},
   "source": [
    "### 3. Guardar los registros de un DataFrame en un archivo de formato CSV."
   ]
  },
  {
   "cell_type": "code",
   "execution_count": 72,
   "metadata": {},
   "outputs": [],
   "source": [
    "df.to_csv('copia_california_housing_test.csv', index=True)"
   ]
  },
  {
   "cell_type": "markdown",
   "metadata": {},
   "source": [
    "### 4. Obtener las primeras n filas de un objeto DataFrame."
   ]
  },
  {
   "cell_type": "code",
   "execution_count": 73,
   "metadata": {},
   "outputs": [
    {
     "name": "stdout",
     "output_type": "stream",
     "text": [
      "   longitud  latitud  edad_media_vivienda  total_habitaciones  \\\n",
      "0   -122.05    37.37                 27.0              3885.0   \n",
      "1   -118.30    34.26                 43.0              1510.0   \n",
      "2   -117.81    33.78                 27.0              3589.0   \n",
      "3   -118.36    33.82                 28.0                67.0   \n",
      "4   -119.67    36.33                 19.0              1241.0   \n",
      "\n",
      "   total_dormitorios  población  hogares  ingreso_medio  valor_medio_vivienda  \n",
      "0              661.0     1537.0    606.0         6.6085              344700.0  \n",
      "1              310.0      809.0    277.0         3.5990              176500.0  \n",
      "2              507.0     1484.0    495.0         5.7934              270500.0  \n",
      "3               15.0       49.0     11.0         6.1359              330000.0  \n",
      "4              244.0      850.0    237.0         2.9375               81700.0  \n"
     ]
    }
   ],
   "source": [
    "print(df.head())"
   ]
  },
  {
   "cell_type": "markdown",
   "metadata": {},
   "source": [
    "### 5. Obtener las últimas n filas de un objeto DataFrame."
   ]
  },
  {
   "cell_type": "code",
   "execution_count": 74,
   "metadata": {},
   "outputs": [
    {
     "name": "stdout",
     "output_type": "stream",
     "text": [
      "      longitud  latitud  edad_media_vivienda  total_habitaciones  \\\n",
      "2995   -119.86    34.42                 23.0              1450.0   \n",
      "2996   -118.14    34.06                 27.0              5257.0   \n",
      "2997   -119.70    36.30                 10.0               956.0   \n",
      "2998   -117.12    34.10                 40.0                96.0   \n",
      "2999   -119.63    34.42                 42.0              1765.0   \n",
      "\n",
      "      total_dormitorios  población  hogares  ingreso_medio  \\\n",
      "2995              642.0     1258.0    607.0         1.1790   \n",
      "2996             1082.0     3496.0   1036.0         3.3906   \n",
      "2997              201.0      693.0    220.0         2.2895   \n",
      "2998               14.0       46.0     14.0         3.2708   \n",
      "2999              263.0      753.0    260.0         8.5608   \n",
      "\n",
      "      valor_medio_vivienda  \n",
      "2995              225000.0  \n",
      "2996              237200.0  \n",
      "2997               62000.0  \n",
      "2998              162500.0  \n",
      "2999              500001.0  \n"
     ]
    }
   ],
   "source": [
    "print(df.tail())"
   ]
  },
  {
   "cell_type": "markdown",
   "metadata": {},
   "source": [
    "### 6. Obtener los nombres de las filas y las columnas de un DataFrame."
   ]
  },
  {
   "cell_type": "code",
   "execution_count": 75,
   "metadata": {},
   "outputs": [
    {
     "name": "stdout",
     "output_type": "stream",
     "text": [
      "Columnas: Index(['longitud', 'latitud', 'edad_media_vivienda', 'total_habitaciones',\n",
      "       'total_dormitorios', 'población', 'hogares', 'ingreso_medio',\n",
      "       'valor_medio_vivienda'],\n",
      "      dtype='object')\n",
      "\n",
      "\n",
      "Filas: RangeIndex(start=0, stop=3000, step=1)\n"
     ]
    }
   ],
   "source": [
    "print(\"Columnas:\",df.columns)\n",
    "print(\"\\n\")\n",
    "print(\"Filas:\", df.index)"
   ]
  },
  {
   "cell_type": "markdown",
   "metadata": {},
   "source": [
    "### 7. Obtener como una lista Python los nombres de las columnas de un DataFrame."
   ]
  },
  {
   "cell_type": "code",
   "execution_count": 76,
   "metadata": {},
   "outputs": [
    {
     "name": "stdout",
     "output_type": "stream",
     "text": [
      "La Lista de python contiene las columnas: ['longitud', 'latitud', 'edad_media_vivienda', 'total_habitaciones', 'total_dormitorios', 'población', 'hogares', 'ingreso_medio', 'valor_medio_vivienda']\n",
      "Comprobación tipo de dato: <class 'list'>\n"
     ]
    }
   ],
   "source": [
    "lista_columnas = df.columns.to_list()\n",
    "print(\"La Lista de python contiene las columnas:\",lista_columnas)\n",
    "print(\"Comprobación tipo de dato:\",type(lista_columnas))"
   ]
  },
  {
   "cell_type": "markdown",
   "metadata": {},
   "source": [
    "### 8. Renombrar las columnas de un objeto DataFrame."
   ]
  },
  {
   "cell_type": "code",
   "execution_count": 77,
   "metadata": {},
   "outputs": [
    {
     "name": "stdout",
     "output_type": "stream",
     "text": [
      "Index(['long', 'lat', 'edad_media_casa', 'habitaciones', 'dormitorios',\n",
      "       'población', 'hogares', 'ingreso_medio', 'valor_medio_casa'],\n",
      "      dtype='object')\n"
     ]
    }
   ],
   "source": [
    "#df.columns = ['long', 'lat', 'edad_media_casa', 'habitaciones', 'dormitorios', 'población', 'hogares', 'ingreso_medio', 'valor_medio_vivienda']\n",
    "df.rename(columns={\n",
    "    'longitud': 'long',\n",
    "    'latitud': 'lat',\n",
    "    'edad_media_vivienda': 'edad_media_casa',\n",
    "    'total_habitaciones': 'habitaciones',\n",
    "    'total_dormitorios': 'dormitorios',\n",
    "    'población': 'población',\n",
    "    'hogares': 'hogares',\n",
    "    'ingreso_medio': 'ingreso_medio',\n",
    "    'valor_medio_vivienda': 'valor_medio_casa'\n",
    "}, inplace=True)\n",
    "print(df.columns)\n"
   ]
  },
  {
   "cell_type": "markdown",
   "metadata": {},
   "source": [
    "### 9. Renombrar una columna de un DataFrame con la función rename."
   ]
  },
  {
   "cell_type": "code",
   "execution_count": 78,
   "metadata": {},
   "outputs": [
    {
     "name": "stdout",
     "output_type": "stream",
     "text": [
      "Index(['longit', 'lat', 'edad_media_casa', 'habitaciones', 'dormitorios',\n",
      "       'población', 'hogares', 'ingreso_medio', 'valor_medio_casa'],\n",
      "      dtype='object')\n"
     ]
    }
   ],
   "source": [
    "df.rename(columns={\n",
    "    'long': 'longit',\n",
    "}, inplace=True)\n",
    "print(df.columns)"
   ]
  },
  {
   "cell_type": "markdown",
   "metadata": {},
   "source": [
    "### 10. Obtener los tipos de datos de las columnas de un DataFrame."
   ]
  },
  {
   "cell_type": "code",
   "execution_count": 79,
   "metadata": {},
   "outputs": [
    {
     "name": "stdout",
     "output_type": "stream",
     "text": [
      "longit              float64\n",
      "lat                 float64\n",
      "edad_media_casa     float64\n",
      "habitaciones        float64\n",
      "dormitorios         float64\n",
      "población           float64\n",
      "hogares             float64\n",
      "ingreso_medio       float64\n",
      "valor_medio_casa    float64\n",
      "dtype: object\n"
     ]
    }
   ],
   "source": [
    "print(df.dtypes)"
   ]
  },
  {
   "cell_type": "markdown",
   "metadata": {},
   "source": [
    "### 11. Mostrar un reporte con la información básica de un objeto DataFrame."
   ]
  },
  {
   "cell_type": "code",
   "execution_count": 80,
   "metadata": {},
   "outputs": [
    {
     "name": "stdout",
     "output_type": "stream",
     "text": [
      "Num registros: \n",
      " longit              3000\n",
      "lat                 3000\n",
      "edad_media_casa     3000\n",
      "habitaciones        3000\n",
      "dormitorios         3000\n",
      "población           3000\n",
      "hogares             3000\n",
      "ingreso_medio       3000\n",
      "valor_medio_casa    3000\n",
      "dtype: int64\n",
      "\n",
      "\n",
      "Media:\n",
      " longit                -119.589200\n",
      "lat                     35.635390\n",
      "edad_media_casa         28.845333\n",
      "habitaciones          2599.578667\n",
      "dormitorios            529.950667\n",
      "población             1402.798667\n",
      "hogares                489.912000\n",
      "ingreso_medio            3.807272\n",
      "valor_medio_casa    205846.275000\n",
      "dtype: float64\n",
      "\n",
      "\n",
      "Desviación estandar: \n",
      " longit                   1.994936\n",
      "lat                      2.129670\n",
      "edad_media_casa         12.555396\n",
      "habitaciones          2155.593332\n",
      "dormitorios            415.654368\n",
      "población             1030.543012\n",
      "hogares                365.422710\n",
      "ingreso_medio            1.854512\n",
      "valor_medio_casa    113119.687470\n",
      "dtype: float64\n",
      "\n",
      "\n",
      "Minimo: \n",
      " longit               -124.1800\n",
      "lat                    32.5600\n",
      "edad_media_casa         1.0000\n",
      "habitaciones            6.0000\n",
      "dormitorios             2.0000\n",
      "población               5.0000\n",
      "hogares                 2.0000\n",
      "ingreso_medio           0.4999\n",
      "valor_medio_casa    22500.0000\n",
      "dtype: float64\n",
      "\n",
      "\n",
      "Maximo: \n",
      " longit                -114.4900\n",
      "lat                     41.9200\n",
      "edad_media_casa         52.0000\n",
      "habitaciones         30450.0000\n",
      "dormitorios           5419.0000\n",
      "población            11935.0000\n",
      "hogares               4930.0000\n",
      "ingreso_medio           15.0001\n",
      "valor_medio_casa    500001.0000\n",
      "dtype: float64\n",
      "\n",
      "\n",
      "25%: \n",
      " longit                -121.810\n",
      "lat                     33.930\n",
      "edad_media_casa         18.000\n",
      "habitaciones          1401.000\n",
      "dormitorios            291.000\n",
      "población              780.000\n",
      "hogares                273.000\n",
      "ingreso_medio            2.544\n",
      "valor_medio_casa    121200.000\n",
      "Name: 0.25, dtype: float64\n",
      "\n",
      "\n",
      "50%: \n",
      " longit                -118.48500\n",
      "lat                     34.27000\n",
      "edad_media_casa         29.00000\n",
      "habitaciones          2106.00000\n",
      "dormitorios            437.00000\n",
      "población             1155.00000\n",
      "hogares                409.50000\n",
      "ingreso_medio            3.48715\n",
      "valor_medio_casa    177650.00000\n",
      "Name: 0.5, dtype: float64\n",
      "\n",
      "\n",
      "75%: \n",
      " longit                -118.020000\n",
      "lat                     37.690000\n",
      "edad_media_casa         37.000000\n",
      "habitaciones          3129.000000\n",
      "dormitorios            636.000000\n",
      "población             1742.750000\n",
      "hogares                597.250000\n",
      "ingreso_medio            4.656475\n",
      "valor_medio_casa    263975.000000\n",
      "Name: 0.75, dtype: float64\n"
     ]
    }
   ],
   "source": [
    "print(\"Num registros:\",\"\\n\",df.count())\n",
    "print(\"\\n\")\n",
    "print(\"Media:\\n\",df.mean())\n",
    "print(\"\\n\")\n",
    "print(\"Desviación estandar:\",\"\\n\",df.std())\n",
    "print(\"\\n\")\n",
    "print(\"Minimo:\",\"\\n\",df.min())\n",
    "print(\"\\n\")\n",
    "print(\"Maximo:\",\"\\n\",df.max())\n",
    "print(\"\\n\")\n",
    "print(\"25%:\",\"\\n\", df.quantile(0.25))\n",
    "print(\"\\n\")\n",
    "print(\"50%:\",\"\\n\", df.quantile(0.50))\n",
    "print(\"\\n\")\n",
    "print(\"75%:\",\"\\n\", df.quantile(0.75))"
   ]
  },
  {
   "cell_type": "markdown",
   "metadata": {},
   "source": [
    "### 12. Obtener estadísticas básicas en un objeto DataFrame con la función describe."
   ]
  },
  {
   "cell_type": "code",
   "execution_count": 81,
   "metadata": {},
   "outputs": [
    {
     "name": "stdout",
     "output_type": "stream",
     "text": [
      "            longit         lat  edad_media_casa  habitaciones  dormitorios  \\\n",
      "count  3000.000000  3000.00000      3000.000000   3000.000000  3000.000000   \n",
      "mean   -119.589200    35.63539        28.845333   2599.578667   529.950667   \n",
      "std       1.994936     2.12967        12.555396   2155.593332   415.654368   \n",
      "min    -124.180000    32.56000         1.000000      6.000000     2.000000   \n",
      "25%    -121.810000    33.93000        18.000000   1401.000000   291.000000   \n",
      "50%    -118.485000    34.27000        29.000000   2106.000000   437.000000   \n",
      "75%    -118.020000    37.69000        37.000000   3129.000000   636.000000   \n",
      "max    -114.490000    41.92000        52.000000  30450.000000  5419.000000   \n",
      "\n",
      "          población     hogares  ingreso_medio  valor_medio_casa  \n",
      "count   3000.000000  3000.00000    3000.000000        3000.00000  \n",
      "mean    1402.798667   489.91200       3.807272      205846.27500  \n",
      "std     1030.543012   365.42271       1.854512      113119.68747  \n",
      "min        5.000000     2.00000       0.499900       22500.00000  \n",
      "25%      780.000000   273.00000       2.544000      121200.00000  \n",
      "50%     1155.000000   409.50000       3.487150      177650.00000  \n",
      "75%     1742.750000   597.25000       4.656475      263975.00000  \n",
      "max    11935.000000  4930.00000      15.000100      500001.00000  \n"
     ]
    }
   ],
   "source": [
    "print(df.describe())"
   ]
  },
  {
   "cell_type": "markdown",
   "metadata": {},
   "source": [
    "### 13. Obtener las columnas de un determinado tipo de dato con select_dtypes."
   ]
  },
  {
   "cell_type": "code",
   "execution_count": 82,
   "metadata": {},
   "outputs": [
    {
     "data": {
      "text/html": [
       "<div>\n",
       "<style scoped>\n",
       "    .dataframe tbody tr th:only-of-type {\n",
       "        vertical-align: middle;\n",
       "    }\n",
       "\n",
       "    .dataframe tbody tr th {\n",
       "        vertical-align: top;\n",
       "    }\n",
       "\n",
       "    .dataframe thead th {\n",
       "        text-align: right;\n",
       "    }\n",
       "</style>\n",
       "<table border=\"1\" class=\"dataframe\">\n",
       "  <thead>\n",
       "    <tr style=\"text-align: right;\">\n",
       "      <th></th>\n",
       "      <th>longit</th>\n",
       "      <th>lat</th>\n",
       "      <th>edad_media_casa</th>\n",
       "      <th>habitaciones</th>\n",
       "      <th>dormitorios</th>\n",
       "      <th>población</th>\n",
       "      <th>hogares</th>\n",
       "      <th>ingreso_medio</th>\n",
       "      <th>valor_medio_casa</th>\n",
       "    </tr>\n",
       "  </thead>\n",
       "  <tbody>\n",
       "    <tr>\n",
       "      <th>0</th>\n",
       "      <td>-122.05</td>\n",
       "      <td>37.37</td>\n",
       "      <td>27.0</td>\n",
       "      <td>3885.0</td>\n",
       "      <td>661.0</td>\n",
       "      <td>1537.0</td>\n",
       "      <td>606.0</td>\n",
       "      <td>6.6085</td>\n",
       "      <td>344700.0</td>\n",
       "    </tr>\n",
       "    <tr>\n",
       "      <th>1</th>\n",
       "      <td>-118.30</td>\n",
       "      <td>34.26</td>\n",
       "      <td>43.0</td>\n",
       "      <td>1510.0</td>\n",
       "      <td>310.0</td>\n",
       "      <td>809.0</td>\n",
       "      <td>277.0</td>\n",
       "      <td>3.5990</td>\n",
       "      <td>176500.0</td>\n",
       "    </tr>\n",
       "    <tr>\n",
       "      <th>2</th>\n",
       "      <td>-117.81</td>\n",
       "      <td>33.78</td>\n",
       "      <td>27.0</td>\n",
       "      <td>3589.0</td>\n",
       "      <td>507.0</td>\n",
       "      <td>1484.0</td>\n",
       "      <td>495.0</td>\n",
       "      <td>5.7934</td>\n",
       "      <td>270500.0</td>\n",
       "    </tr>\n",
       "    <tr>\n",
       "      <th>3</th>\n",
       "      <td>-118.36</td>\n",
       "      <td>33.82</td>\n",
       "      <td>28.0</td>\n",
       "      <td>67.0</td>\n",
       "      <td>15.0</td>\n",
       "      <td>49.0</td>\n",
       "      <td>11.0</td>\n",
       "      <td>6.1359</td>\n",
       "      <td>330000.0</td>\n",
       "    </tr>\n",
       "    <tr>\n",
       "      <th>4</th>\n",
       "      <td>-119.67</td>\n",
       "      <td>36.33</td>\n",
       "      <td>19.0</td>\n",
       "      <td>1241.0</td>\n",
       "      <td>244.0</td>\n",
       "      <td>850.0</td>\n",
       "      <td>237.0</td>\n",
       "      <td>2.9375</td>\n",
       "      <td>81700.0</td>\n",
       "    </tr>\n",
       "    <tr>\n",
       "      <th>...</th>\n",
       "      <td>...</td>\n",
       "      <td>...</td>\n",
       "      <td>...</td>\n",
       "      <td>...</td>\n",
       "      <td>...</td>\n",
       "      <td>...</td>\n",
       "      <td>...</td>\n",
       "      <td>...</td>\n",
       "      <td>...</td>\n",
       "    </tr>\n",
       "    <tr>\n",
       "      <th>2995</th>\n",
       "      <td>-119.86</td>\n",
       "      <td>34.42</td>\n",
       "      <td>23.0</td>\n",
       "      <td>1450.0</td>\n",
       "      <td>642.0</td>\n",
       "      <td>1258.0</td>\n",
       "      <td>607.0</td>\n",
       "      <td>1.1790</td>\n",
       "      <td>225000.0</td>\n",
       "    </tr>\n",
       "    <tr>\n",
       "      <th>2996</th>\n",
       "      <td>-118.14</td>\n",
       "      <td>34.06</td>\n",
       "      <td>27.0</td>\n",
       "      <td>5257.0</td>\n",
       "      <td>1082.0</td>\n",
       "      <td>3496.0</td>\n",
       "      <td>1036.0</td>\n",
       "      <td>3.3906</td>\n",
       "      <td>237200.0</td>\n",
       "    </tr>\n",
       "    <tr>\n",
       "      <th>2997</th>\n",
       "      <td>-119.70</td>\n",
       "      <td>36.30</td>\n",
       "      <td>10.0</td>\n",
       "      <td>956.0</td>\n",
       "      <td>201.0</td>\n",
       "      <td>693.0</td>\n",
       "      <td>220.0</td>\n",
       "      <td>2.2895</td>\n",
       "      <td>62000.0</td>\n",
       "    </tr>\n",
       "    <tr>\n",
       "      <th>2998</th>\n",
       "      <td>-117.12</td>\n",
       "      <td>34.10</td>\n",
       "      <td>40.0</td>\n",
       "      <td>96.0</td>\n",
       "      <td>14.0</td>\n",
       "      <td>46.0</td>\n",
       "      <td>14.0</td>\n",
       "      <td>3.2708</td>\n",
       "      <td>162500.0</td>\n",
       "    </tr>\n",
       "    <tr>\n",
       "      <th>2999</th>\n",
       "      <td>-119.63</td>\n",
       "      <td>34.42</td>\n",
       "      <td>42.0</td>\n",
       "      <td>1765.0</td>\n",
       "      <td>263.0</td>\n",
       "      <td>753.0</td>\n",
       "      <td>260.0</td>\n",
       "      <td>8.5608</td>\n",
       "      <td>500001.0</td>\n",
       "    </tr>\n",
       "  </tbody>\n",
       "</table>\n",
       "<p>3000 rows × 9 columns</p>\n",
       "</div>"
      ],
      "text/plain": [
       "      longit    lat  edad_media_casa  habitaciones  dormitorios  población  \\\n",
       "0    -122.05  37.37             27.0        3885.0        661.0     1537.0   \n",
       "1    -118.30  34.26             43.0        1510.0        310.0      809.0   \n",
       "2    -117.81  33.78             27.0        3589.0        507.0     1484.0   \n",
       "3    -118.36  33.82             28.0          67.0         15.0       49.0   \n",
       "4    -119.67  36.33             19.0        1241.0        244.0      850.0   \n",
       "...      ...    ...              ...           ...          ...        ...   \n",
       "2995 -119.86  34.42             23.0        1450.0        642.0     1258.0   \n",
       "2996 -118.14  34.06             27.0        5257.0       1082.0     3496.0   \n",
       "2997 -119.70  36.30             10.0         956.0        201.0      693.0   \n",
       "2998 -117.12  34.10             40.0          96.0         14.0       46.0   \n",
       "2999 -119.63  34.42             42.0        1765.0        263.0      753.0   \n",
       "\n",
       "      hogares  ingreso_medio  valor_medio_casa  \n",
       "0       606.0         6.6085          344700.0  \n",
       "1       277.0         3.5990          176500.0  \n",
       "2       495.0         5.7934          270500.0  \n",
       "3        11.0         6.1359          330000.0  \n",
       "4       237.0         2.9375           81700.0  \n",
       "...       ...            ...               ...  \n",
       "2995    607.0         1.1790          225000.0  \n",
       "2996   1036.0         3.3906          237200.0  \n",
       "2997    220.0         2.2895           62000.0  \n",
       "2998     14.0         3.2708          162500.0  \n",
       "2999    260.0         8.5608          500001.0  \n",
       "\n",
       "[3000 rows x 9 columns]"
      ]
     },
     "execution_count": 82,
     "metadata": {},
     "output_type": "execute_result"
    }
   ],
   "source": [
    "#todas las columnas del dataframe son float, pero bueno\n",
    "df.select_dtypes(float)"
   ]
  },
  {
   "cell_type": "markdown",
   "metadata": {},
   "source": [
    "### 14. Cambiar el tipo de dato de una o más columnas con astype."
   ]
  },
  {
   "cell_type": "code",
   "execution_count": 83,
   "metadata": {},
   "outputs": [
    {
     "name": "stdout",
     "output_type": "stream",
     "text": [
      "Tipos de datos:\n",
      " longit              float64\n",
      "lat                 float64\n",
      "edad_media_casa       int64\n",
      "habitaciones        float64\n",
      "dormitorios         float64\n",
      "población           float64\n",
      "hogares             float64\n",
      "ingreso_medio       float64\n",
      "valor_medio_casa    float64\n",
      "dtype: object\n"
     ]
    }
   ],
   "source": [
    "df['edad_media_casa'] = df['edad_media_casa'].astype(int)\n",
    "print(\"Tipos de datos:\\n\",df.dtypes)"
   ]
  },
  {
   "cell_type": "markdown",
   "metadata": {},
   "source": [
    "### 15. Obtener la dimensión, el tamaño, y la forma de un objeto DataFrame.\n",
    "#### PREGUNTAR\n"
   ]
  },
  {
   "cell_type": "code",
   "execution_count": 84,
   "metadata": {},
   "outputs": [
    {
     "name": "stdout",
     "output_type": "stream",
     "text": [
      "Dimension del DataFrame: (3000, 9)\n",
      "Tamaño: 27000\n",
      "Forma del DataFrame: (3000, 9)\n"
     ]
    }
   ],
   "source": [
    "print(\"Dimension del DataFrame:\",df.shape)\n",
    "print(\"Tamaño:\", df.size)\n",
    "print(\"Forma del DataFrame:\",df.shape)\n"
   ]
  },
  {
   "cell_type": "markdown",
   "metadata": {},
   "source": [
    "### 16. Obtener la cantidad de memoria ocupada por cada columna en un DataFrame."
   ]
  },
  {
   "cell_type": "code",
   "execution_count": 85,
   "metadata": {},
   "outputs": [
    {
     "name": "stdout",
     "output_type": "stream",
     "text": [
      "Memoria usada por cada columna en bytes:\n",
      "Index                 132\n",
      "longit              24000\n",
      "lat                 24000\n",
      "edad_media_casa     24000\n",
      "habitaciones        24000\n",
      "dormitorios         24000\n",
      "población           24000\n",
      "hogares             24000\n",
      "ingreso_medio       24000\n",
      "valor_medio_casa    24000\n",
      "dtype: int64\n"
     ]
    }
   ],
   "source": [
    "print(\"Memoria usada por cada columna en bytes:\")\n",
    "print(df.memory_usage())"
   ]
  },
  {
   "cell_type": "markdown",
   "metadata": {},
   "source": [
    "### 17. Comprobar si un objeto DataFrame está vacío con empty."
   ]
  },
  {
   "cell_type": "code",
   "execution_count": 86,
   "metadata": {},
   "outputs": [
    {
     "name": "stdout",
     "output_type": "stream",
     "text": [
      "df usado con los datos de clase de housing_california: False\n",
      "df2 que está vacio creado para el ejemplo: True\n"
     ]
    }
   ],
   "source": [
    "print(\"df usado con los datos de clase de housing_california:\",df.empty)\n",
    "df2 = {}\n",
    "df2 = pd.DataFrame(df2)\n",
    "print(\"df2 que está vacio creado para el ejemplo:\",df2.empty)"
   ]
  },
  {
   "cell_type": "markdown",
   "metadata": {},
   "source": [
    "### 18. Obtener los datos de una columna como una lista Python con tolist.\n"
   ]
  },
  {
   "cell_type": "code",
   "execution_count": 87,
   "metadata": {},
   "outputs": [
    {
     "name": "stdout",
     "output_type": "stream",
     "text": [
      "[6.6085, 3.599, 5.7934, 6.1359, 2.9375, 1.6635, 1.6641, 3.225, 3.6696, 2.3333, 2.2054, 2.4167, 4.69, 4.5625, 5.7121, 2.2, 1.875, 2.7174, 6.5851, 6.1724, 3.8913, 3.1786, 3.8644, 2.7788, 3.8156, 7.1615, 2.5403, 6.603, 1.583, 3.4852, 3.1486, 2.6182, 2.8102, 4.5237, 4.6389, 2.625, 2.5125, 5.5238, 3.6771, 4.693, 3.4231, 6.6783, 15.0001, 0.9838, 4.2891, 4.2826, 5.0808, 2.5398, 3.4231, 3.1049, 3.5877, 2.3516, 3.0682, 3.5313, 4.3409, 4.8523, 3.0903, 5.6385, 3.575, 3.9461, 5.8221, 5.898, 2.7153, 2.9063, 6.1273, 3.8409, 3.2246, 6.1561, 3.6602, 3.5855, 5.2831, 1.6888, 4.1379, 4.1369, 2.325, 3.4167, 3.2599, 3.1118, 6.8075, 7.494, 3.5167, 1.4801, 3.7, 3.0912, 4.3971, 3.5489, 3.5375, 2.6071, 2.1542, 4.0238, 2.8125, 5.1118, 4.3839, 5.0493, 7.5, 2.2466, 2.3194, 4.3029, 6.0, 2.2344, 1.85, 2.1917, 6.244, 4.2296, 1.6901, 1.8068, 4.0972, 5.215, 2.6371, 5.3292, 5.2017, 2.8529, 5.8777, 4.7931, 2.1422, 4.5625, 5.5137, 10.1007, 13.6623, 2.55, 4.3081, 1.6435, 1.9026, 2.9309, 10.5981, 3.1912, 2.6343, 6.6727, 4.75, 6.4962, 2.1357, 2.5663, 2.888, 1.1917, 1.8641, 12.6417, 2.8085, 2.4741, 4.5304, 6.8753, 2.4492, 2.2303, 3.7727, 2.125, 3.2174, 2.3036, 3.1389, 1.8958, 4.1118, 1.8095, 1.6156, 4.9464, 6.3433, 2.8214, 4.5721, 3.1776, 1.2778, 4.3036, 2.0564, 8.1926, 3.9745, 15.0001, 3.2229, 2.1522, 3.072, 3.235, 5.8374, 2.9744, 3.7794, 1.8357, 1.449, 2.8561, 2.4706, 1.8939, 2.0417, 2.7148, 5.6235, 5.8623, 3.3021, 2.3147, 4.0929, 3.9559, 6.7413, 5.0543, 2.1189, 0.4999, 4.027, 1.0333, 4.2969, 2.1902, 4.125, 4.3317, 2.2125, 4.1429, 3.0189, 2.3693, 2.75, 2.0096, 4.2222, 3.996, 1.625, 2.2551, 2.5841, 3.3155, 1.2412, 3.8047, 4.037, 3.125, 1.9805, 1.6336, 3.9009, 5.322, 5.3428, 1.4923, 4.7396, 5.9572, 4.175, 2.7778, 3.6389, 3.6538, 3.875, 3.1768, 2.6354, 4.7132, 2.6442, 4.8304, 2.3333, 3.6167, 2.7232, 3.8934, 5.5, 3.3981, 4.1856, 0.9817, 5.1674, 2.0575, 5.8309, 3.662, 5.3245, 3.4402, 2.5374, 7.1298, 1.9032, 3.0139, 3.1607, 2.0437, 4.625, 3.1086, 5.8083, 2.5437, 4.4107, 3.0739, 4.436, 2.9698, 3.2759, 6.7805, 3.2778, 6.8643, 1.5227, 3.1445, 2.7312, 5.5591, 3.875, 6.1995, 2.8906, 2.0724, 3.875, 2.0057, 2.5029, 2.2024, 1.7311, 4.0667, 3.0911, 4.5341, 4.087, 3.4338, 3.0104, 2.3971, 2.7308, 3.3479, 6.0876, 3.9792, 3.3155, 4.9519, 1.7196, 4.4125, 5.3623, 3.2415, 3.9375, 3.2699, 6.2306, 3.7961, 3.3799, 3.3393, 3.0687, 5.4132, 5.9401, 2.8533, 6.1195, 3.5353, 2.7955, 1.65, 0.8478, 3.9036, 1.9962, 1.9704, 3.1711, 3.5745, 8.5938, 3.0521, 3.4, 4.6806, 2.7457, 2.5504, 3.5114, 6.1946, 1.3286, 3.625, 3.1957, 4.1302, 4.3906, 5.4496, 4.1012, 5.0353, 2.25, 3.625, 3.5694, 2.6719, 6.223, 3.733, 3.1786, 1.8723, 3.625, 1.6033, 2.7083, 1.6378, 4.7056, 6.4576, 3.9219, 2.0807, 2.75, 2.3077, 3.6298, 3.375, 4.875, 2.3221, 4.0, 3.4279, 4.5417, 2.9345, 4.1429, 3.8684, 5.1433, 2.4583, 3.4722, 9.8214, 3.1711, 4.7986, 2.0474, 3.8583, 4.0435, 4.2222, 3.8571, 2.465, 2.9286, 2.7308, 3.4643, 3.9167, 0.9589, 2.2981, 1.2813, 2.5603, 3.1975, 2.7451, 5.9641, 3.1028, 3.2188, 2.6538, 3.3669, 3.09, 3.25, 6.203, 6.9742, 0.9914, 2.5701, 1.3867, 3.0773, 3.0905, 2.6745, 10.9722, 2.0789, 3.25, 5.457, 2.5909, 4.1375, 3.2375, 3.3669, 6.939, 2.3261, 6.827, 3.2969, 5.17, 2.9375, 4.0993, 5.1061, 3.8661, 3.6467, 2.2431, 3.0685, 2.6962, 0.8668, 5.2962, 3.3375, 3.2431, 2.9861, 2.4531, 3.0588, 3.0919, 5.3366, 2.5625, 2.2625, 2.0817, 5.273, 3.6974, 1.2826, 3.8026, 4.7022, 7.7201, 4.2672, 3.0723, 3.7045, 2.6058, 3.3036, 4.0408, 2.3864, 4.0417, 3.2708, 2.2898, 3.25, 5.5, 4.4135, 3.2287, 3.52, 2.7569, 5.0681, 6.194, 3.7366, 4.5913, 3.5903, 4.6932, 6.0382, 5.1509, 4.5122, 4.2386, 3.75, 2.6311, 2.5321, 3.875, 2.4821, 6.3489, 3.7455, 7.5057, 3.8068, 3.1897, 2.4792, 5.357, 6.5226, 1.6722, 4.7097, 2.2356, 3.1765, 3.1927, 1.8319, 3.9741, 10.476, 2.9803, 2.7993, 2.1587, 2.1108, 1.3967, 4.3836, 12.3767, 1.3021, 1.5417, 5.057, 4.25, 4.2333, 4.6364, 2.06, 5.6687, 4.125, 5.187, 5.0, 5.7512, 1.9694, 2.5625, 4.5938, 2.0817, 3.3702, 3.2171, 5.1637, 1.0424, 10.9529, 3.4542, 2.8348, 3.75, 11.806, 2.293, 2.1757, 7.3693, 4.55, 2.3929, 1.3844, 2.66, 3.9044, 4.3636, 2.9191, 4.2768, 1.6389, 1.075, 3.375, 3.1908, 1.9018, 3.5838, 2.4297, 3.5046, 7.0102, 4.3182, 2.9, 1.7143, 1.4653, 10.8111, 5.1589, 3.2879, 3.2833, 2.6033, 2.6149, 5.0195, 3.293, 4.45, 4.375, 4.7396, 3.7375, 3.676, 2.1496, 6.3021, 2.3889, 3.8571, 4.2014, 4.0313, 4.6424, 4.3125, 5.1099, 4.125, 6.2296, 9.7449, 3.3125, 2.67, 1.3952, 3.2569, 6.0471, 3.0509, 3.5871, 1.1607, 9.5908, 2.0571, 2.532, 2.375, 4.2644, 4.8958, 3.4531, 6.1815, 2.0192, 1.8672, 3.7014, 3.875, 3.5, 4.4, 3.6486, 2.125, 5.0445, 8.2374, 2.7632, 5.3994, 6.1551, 2.0577, 4.75, 1.7891, 3.2632, 3.2109, 4.6556, 3.4821, 3.9352, 3.0583, 3.625, 2.1898, 2.5402, 6.6073, 2.2813, 3.5625, 1.5938, 4.5726, 1.9531, 4.1827, 5.3363, 4.0125, 1.5029, 2.5383, 3.5781, 2.6724, 2.6818, 2.2607, 1.55, 1.575, 4.3625, 3.0833, 3.0437, 1.7622, 3.8333, 3.8472, 3.6378, 2.5139, 5.1785, 4.7788, 6.7977, 6.8588, 4.9583, 3.2061, 2.5909, 2.6447, 3.7043, 3.864, 2.4167, 4.0208, 3.3214, 6.7546, 3.7318, 2.8214, 8.3818, 5.2729, 1.6971, 0.536, 1.879, 5.0447, 1.5863, 6.5234, 5.6345, 2.4135, 3.5074, 1.8477, 4.8488, 2.4412, 3.4265, 2.125, 2.6123, 2.0625, 2.8167, 5.0417, 3.3478, 4.3833, 3.4643, 4.0987, 6.1062, 1.89, 1.8833, 2.9292, 7.7197, 3.0865, 4.1656, 3.5022, 4.0833, 2.5588, 4.2234, 4.1661, 5.1386, 5.4286, 3.75, 5.2292, 3.9375, 2.5272, 6.5538, 2.5, 2.2287, 1.2475, 2.1029, 5.0452, 10.7372, 2.3917, 4.962, 2.8192, 0.844, 0.8185, 5.5385, 2.1944, 4.2254, 3.3679, 5.777, 2.1763, 3.0682, 4.0391, 4.1875, 3.9375, 6.9615, 3.2708, 1.9231, 2.75, 2.8175, 4.8603, 3.1901, 5.653, 10.7355, 2.1875, 7.912, 3.5365, 3.6719, 2.7426, 3.6389, 1.8447, 3.9, 4.1364, 4.8125, 4.1812, 2.631, 5.347, 3.1364, 2.8472, 2.3599, 1.9531, 2.1078, 1.6483, 4.81, 6.0332, 3.1111, 4.1667, 1.9107, 2.8239, 4.6786, 3.2717, 3.1729, 1.0, 1.125, 4.8304, 2.4444, 5.0779, 5.3644, 3.7655, 1.3, 10.898, 6.358, 1.5854, 2.3769, 2.7757, 2.5179, 3.111, 3.6729, 4.7168, 1.023, 3.9628, 4.0625, 2.325, 2.7788, 1.6559, 4.1033, 5.552, 2.9135, 3.9929, 4.375, 1.2404, 4.8554, 1.63, 1.4911, 4.0357, 2.9519, 2.334, 2.7137, 1.8993, 2.75, 3.1106, 4.0625, 1.875, 3.4904, 6.0247, 3.175, 2.9459, 3.125, 2.9306, 7.8383, 4.6923, 2.5474, 4.55, 3.0469, 5.0362, 6.7559, 3.9464, 2.2532, 3.0278, 4.2386, 3.6827, 4.4427, 8.3678, 1.2012, 2.7083, 3.0755, 4.5833, 1.787, 2.9479, 2.6036, 4.8021, 4.0598, 3.8275, 4.0437, 3.6354, 1.6452, 2.8031, 2.2165, 4.5667, 1.4091, 5.9683, 2.6964, 4.9615, 3.7969, 3.0938, 6.0774, 5.3243, 5.2528, 4.1719, 1.5491, 3.0233, 2.2443, 4.7965, 2.0125, 4.5987, 2.3849, 2.375, 1.3403, 6.1593, 2.1842, 3.25, 3.7574, 4.1458, 2.625, 3.75, 4.875, 4.2437, 7.4897, 1.6435, 3.1796, 3.0954, 3.89, 3.2135, 3.2813, 5.6152, 1.6725, 8.4952, 3.6294, 3.2969, 4.2594, 5.1435, 5.9629, 5.8718, 5.3403, 3.0156, 3.3269, 10.3953, 1.2056, 3.1131, 6.4242, 3.5096, 2.1472, 1.6747, 2.8711, 5.375, 1.725, 5.3816, 4.825, 5.7057, 1.125, 4.6176, 4.2762, 7.2045, 4.9091, 3.0375, 2.3015, 3.2705, 2.2969, 4.4391, 3.1406, 4.419, 1.4639, 2.9605, 6.3443, 3.6791, 2.1287, 2.1141, 10.2264, 3.9783, 2.9167, 2.9219, 2.9464, 8.039, 6.357, 3.2642, 2.4728, 1.7875, 3.125, 2.7, 3.5893, 5.6787, 2.6673, 1.2101, 2.1336, 1.7106, 7.0875, 3.184, 3.6369, 4.6429, 2.8906, 3.375, 4.5278, 4.4375, 3.5875, 3.0429, 3.2234, 3.4187, 4.5179, 1.8417, 4.9716, 3.3629, 2.4464, 4.2143, 1.9091, 2.7802, 5.5, 4.1674, 1.6769, 3.7562, 4.9013, 2.2883, 3.0083, 4.2386, 4.9024, 6.2884, 2.5625, 1.125, 5.2741, 2.125, 6.4211, 4.0473, 4.9125, 4.4306, 2.6386, 2.75, 1.9766, 2.5486, 5.1045, 2.5536, 7.0217, 1.8878, 3.7813, 5.4631, 2.5655, 3.48, 2.3958, 4.6394, 4.1544, 2.4688, 4.0703, 2.3, 2.6442, 3.2663, 5.1585, 2.2292, 2.7857, 3.8333, 2.1635, 4.5739, 4.7547, 3.4872, 4.8811, 3.8529, 3.7286, 1.9318, 3.5568, 3.2933, 7.7517, 4.6, 3.4559, 3.9816, 4.517, 1.5909, 3.5518, 2.7125, 3.944, 2.5682, 2.964, 5.3909, 5.592, 11.7794, 3.0642, 1.7083, 6.8927, 3.5385, 3.5988, 2.6937, 4.3812, 7.745, 2.5313, 1.75, 5.8752, 3.9063, 3.8214, 2.3382, 4.4122, 4.1679, 2.2794, 2.3594, 5.2879, 6.0116, 3.1042, 3.6852, 2.5599, 3.5857, 5.2374, 3.6771, 6.3654, 1.7158, 3.8185, 2.7621, 3.4871, 2.6364, 2.1838, 1.7969, 1.9963, 5.9684, 2.6429, 6.1642, 2.6397, 2.5833, 2.288, 1.9342, 3.244, 5.0659, 2.6364, 5.2449, 5.0406, 3.3371, 3.5179, 2.589, 1.7237, 5.3423, 15.0001, 2.101, 7.4001, 2.0724, 2.5893, 4.6071, 3.7813, 3.1, 3.5938, 2.3333, 3.194, 2.625, 3.8826, 1.3333, 2.8167, 2.0819, 3.3693, 5.1769, 2.8967, 2.2614, 4.5568, 3.0744, 3.225, 1.0349, 2.2538, 1.9875, 1.025, 1.8516, 1.9423, 5.1645, 10.0968, 1.5625, 3.6531, 9.1232, 2.6437, 1.4867, 5.4639, 4.3542, 1.2273, 3.1406, 5.8783, 2.5703, 2.9184, 4.1667, 3.0, 2.7824, 1.2344, 2.5363, 3.3438, 2.8295, 4.4784, 4.3456, 2.4, 3.3368, 3.5156, 4.3646, 4.2719, 6.7415, 3.9286, 4.7986, 4.3661, 2.9016, 3.2083, 3.6304, 4.4, 1.625, 4.0388, 2.3687, 1.6111, 2.6781, 3.2757, 4.7328, 3.6823, 4.1387, 3.765, 3.6875, 2.0775, 3.9327, 1.8618, 5.0237, 5.5423, 2.65, 2.6382, 8.9083, 3.535, 4.8831, 6.837, 2.1856, 4.6312, 2.6722, 3.9464, 3.0967, 4.4, 5.3044, 3.7813, 2.1759, 4.6357, 1.6678, 3.5, 5.0091, 3.8056, 1.0898, 2.35, 6.0296, 2.7375, 2.1806, 1.1094, 2.0677, 3.8081, 6.8336, 3.0, 2.5735, 3.4269, 1.5319, 4.2206, 3.0125, 5.2405, 2.2656, 2.5074, 2.0441, 4.0353, 1.6488, 3.7933, 3.9408, 3.1912, 4.0686, 1.1602, 3.1884, 4.5417, 7.8601, 3.4464, 3.0882, 4.8333, 3.1546, 1.8365, 3.9063, 8.496, 7.8336, 2.6071, 2.125, 3.3672, 3.4705, 10.7097, 7.3141, 3.9073, 4.25, 2.3, 5.5061, 1.5539, 6.1498, 4.4551, 2.3205, 2.5625, 2.5795, 4.5812, 5.7862, 4.0556, 4.3125, 4.8984, 5.9062, 6.0362, 2.9219, 3.3875, 3.2917, 2.6899, 1.62, 4.45, 3.9871, 3.3125, 4.2813, 5.0942, 6.7027, 10.157, 2.1859, 5.128, 3.1029, 1.0649, 1.7696, 3.0703, 5.7579, 2.4308, 5.5785, 2.9161, 4.8167, 4.8894, 3.5278, 4.1366, 4.0968, 3.6908, 2.0625, 2.5625, 1.0353, 3.5592, 4.2039, 5.1778, 3.6875, 2.5833, 3.0704, 6.7587, 3.101, 3.225, 4.925, 3.6895, 6.6086, 2.1552, 2.0917, 2.227, 4.1429, 3.0446, 3.6458, 4.2006, 1.6597, 4.5625, 12.8763, 3.9423, 1.9872, 6.1731, 1.6705, 4.0333, 4.8889, 2.5707, 4.6484, 3.1306, 2.3869, 5.0424, 5.1418, 4.9926, 4.3393, 3.1912, 3.8203, 5.4364, 5.7338, 2.4038, 5.196, 2.3774, 4.7703, 3.0259, 3.3125, 4.4097, 3.0574, 6.0634, 3.9211, 1.5603, 6.0102, 2.9375, 4.0982, 2.095, 2.7222, 6.1256, 5.0731, 0.9566, 4.0924, 3.9018, 3.2845, 3.8611, 1.9138, 5.9024, 1.0714, 5.5983, 2.2847, 0.7403, 5.7812, 5.1538, 2.9934, 5.2329, 5.6406, 2.3111, 6.7669, 2.0625, 2.5267, 4.0118, 5.0602, 7.9976, 3.6125, 6.0842, 4.1339, 4.1382, 3.2727, 3.3608, 10.2233, 4.0985, 4.2143, 3.6058, 2.5139, 3.4167, 2.8348, 1.1985, 2.0417, 3.3929, 4.7344, 5.388, 6.8112, 3.3006, 4.7656, 4.6076, 4.0, 4.4085, 1.8806, 1.5152, 5.1017, 1.625, 3.5272, 6.4419, 2.9861, 2.6165, 1.625, 1.7361, 2.5656, 3.625, 4.0801, 2.6429, 3.0149, 5.4298, 1.7238, 1.4583, 3.8558, 2.1494, 5.8587, 2.4861, 2.5664, 2.92, 5.5767, 3.3287, 2.7273, 1.6178, 5.0603, 2.8941, 2.9821, 4.3125, 6.9612, 4.8646, 4.0234, 5.065, 15.0001, 3.9566, 3.6827, 4.2654, 9.5862, 5.417, 3.6806, 4.0461, 3.29, 3.1964, 3.8788, 1.7396, 5.7072, 7.5744, 2.7734, 3.9375, 4.9904, 8.0144, 3.3098, 2.9625, 2.3475, 4.3428, 2.875, 3.0448, 4.2375, 1.125, 2.575, 2.1518, 2.7006, 3.59, 1.9107, 3.8864, 2.6777, 5.0, 4.2031, 7.5845, 4.0341, 3.1429, 2.875, 3.7557, 8.3617, 3.6161, 6.0132, 6.1278, 1.9236, 4.9962, 3.5347, 2.273, 5.7951, 3.4531, 2.875, 4.5224, 4.412, 3.0187, 5.3735, 3.4327, 2.2891, 2.2333, 3.07, 3.3854, 4.1902, 1.6898, 1.9, 1.8625, 2.885, 3.5417, 7.9835, 2.1937, 3.6736, 1.9787, 0.75, 1.7273, 1.8333, 1.7548, 1.9063, 1.9224, 5.8691, 4.1179, 2.475, 7.3769, 1.6618, 4.4567, 4.1339, 4.3438, 2.0888, 4.0536, 3.7885, 2.6179, 5.0201, 5.2099, 8.5184, 2.065, 15.0001, 3.0742, 2.4423, 3.75, 3.2614, 2.4667, 4.375, 5.0947, 5.2573, 4.5461, 2.5833, 3.0938, 4.9318, 6.213, 3.6023, 1.8355, 2.0878, 5.6493, 2.5833, 4.112, 3.4943, 5.2662, 3.6759, 2.08, 3.0893, 2.7845, 3.1103, 4.3118, 2.1366, 4.2829, 5.9617, 3.2396, 2.9688, 3.86, 0.8054, 5.8543, 5.6818, 4.4394, 5.1786, 2.3438, 2.7601, 3.7167, 3.1467, 3.8906, 2.593, 4.4228, 1.3096, 6.6539, 2.125, 3.0521, 8.2335, 2.7201, 7.6923, 3.95, 2.6531, 0.7054, 2.9452, 1.4511, 1.608, 3.5192, 4.4728, 4.2443, 2.1953, 4.933, 2.9063, 4.8889, 4.5687, 3.0114, 4.0726, 2.5898, 7.333, 4.7344, 5.8399, 3.9375, 7.8139, 5.1775, 5.5461, 2.8208, 3.9024, 3.6361, 2.5882, 6.777, 3.3841, 3.4048, 3.7321, 4.0144, 10.5793, 5.2563, 5.3359, 2.3, 8.2827, 3.3214, 3.4471, 2.913, 3.875, 4.5594, 4.3816, 3.0809, 2.9125, 3.2986, 1.6521, 4.0, 5.0443, 3.0357, 3.6894, 2.3309, 3.8633, 2.628, 1.5, 3.2135, 6.2047, 5.368, 2.8, 4.7179, 1.8589, 3.5652, 1.7467, 4.0432, 2.1875, 6.3064, 1.275, 4.6806, 3.9963, 3.1648, 2.5192, 15.0001, 1.3571, 6.1265, 3.3182, 4.3897, 2.4583, 2.6806, 3.6667, 3.9727, 4.5701, 3.2356, 1.4663, 4.625, 4.3235, 0.9722, 5.5429, 1.9797, 2.6715, 4.2917, 3.0375, 1.7333, 3.4394, 3.0568, 3.6169, 3.2941, 7.8392, 2.3929, 5.6683, 2.5556, 2.2454, 4.1618, 2.8547, 4.5, 3.233, 0.8702, 4.1071, 2.1295, 3.0729, 4.4565, 3.05, 3.5352, 2.1845, 4.375, 5.5362, 4.918, 4.5721, 2.1908, 2.181, 2.5164, 3.9698, 5.5191, 2.1444, 6.5669, 4.7647, 5.069, 5.4688, 4.1771, 4.26, 3.1319, 1.2446, 3.2639, 1.9122, 5.8269, 3.7083, 2.3812, 1.2347, 2.9243, 5.1036, 5.8068, 1.6318, 5.2114, 4.4545, 3.1571, 3.2404, 6.3047, 3.5893, 2.7344, 4.1451, 6.276, 3.0147, 3.7656, 2.3266, 3.4419, 1.3448, 1.7823, 5.0514, 3.1382, 4.1058, 2.6964, 3.7321, 2.319, 1.0568, 2.2574, 2.5792, 2.0595, 4.0616, 1.4598, 4.1375, 4.2059, 3.2396, 3.7647, 2.8152, 1.9485, 3.0625, 1.8818, 4.3661, 2.9087, 4.9236, 2.5476, 2.4213, 6.632, 5.0677, 1.7788, 5.806, 3.5313, 4.095, 5.2336, 4.7926, 1.6038, 5.0499, 1.2269, 2.5, 6.0571, 3.1205, 2.2903, 5.828, 4.3571, 2.5119, 6.7449, 4.2383, 6.6712, 2.793, 2.0192, 3.3929, 3.375, 2.875, 2.033, 3.5156, 4.3571, 4.2356, 2.35, 2.5875, 2.6792, 1.6389, 2.0182, 5.6188, 4.4583, 3.3871, 7.8774, 2.1969, 5.5842, 5.791, 3.1667, 2.8323, 8.0837, 4.53, 4.1125, 9.4522, 4.4732, 4.2045, 2.6979, 4.1029, 2.5444, 2.3974, 3.1941, 2.5033, 3.1462, 2.4063, 4.235, 6.6455, 4.5, 5.5121, 2.5703, 2.7566, 2.4432, 2.7917, 2.375, 6.1323, 4.7109, 5.5842, 3.3937, 5.3016, 4.875, 4.8958, 1.8429, 6.9257, 2.4398, 8.847, 4.2656, 4.9271, 2.2125, 3.5625, 6.4667, 3.1645, 3.59, 4.4375, 2.3583, 2.4821, 3.4722, 3.2083, 2.0221, 1.6554, 3.6572, 3.66, 3.1286, 2.4659, 3.915, 5.584, 3.25, 3.5647, 4.3919, 1.043, 7.7569, 5.0473, 4.425, 4.6477, 3.3438, 4.5281, 4.5144, 2.1151, 3.9615, 9.2225, 3.8125, 3.825, 4.199, 2.5441, 2.9712, 1.6667, 3.4695, 3.0789, 1.676, 4.5833, 5.8964, 3.8117, 4.2008, 3.6346, 3.375, 2.5733, 4.03, 3.6333, 3.6818, 2.4375, 3.2222, 4.6042, 2.3068, 4.8068, 2.2743, 6.234, 5.5756, 2.6964, 6.8645, 3.2279, 3.9688, 2.0595, 4.8092, 3.6719, 3.8421, 4.7768, 1.746, 1.7393, 4.0, 2.655, 2.7981, 3.3565, 1.5369, 10.0825, 6.1624, 2.7679, 5.9378, 2.9844, 1.3417, 3.0, 3.0956, 3.4821, 4.0057, 4.192, 1.4668, 7.4351, 4.5714, 4.1875, 10.3798, 4.2011, 1.6851, 2.7428, 2.6, 2.9542, 3.975, 4.75, 1.8289, 2.0625, 3.8565, 2.9792, 3.625, 4.5833, 2.9821, 2.7885, 3.025, 3.2031, 5.2276, 6.5745, 2.6087, 1.8906, 1.7292, 2.5179, 3.0906, 1.7788, 3.6176, 4.0, 3.125, 3.2031, 4.9205, 3.6667, 5.5433, 5.7407, 3.4063, 3.2937, 3.0, 4.3429, 2.9737, 6.9399, 2.1029, 7.2559, 4.4004, 3.0319, 5.5956, 4.692, 2.2679, 2.6322, 4.0451, 3.2917, 3.2778, 2.0221, 6.3364, 2.6458, 6.6264, 3.024, 5.6704, 4.0217, 2.5885, 3.9485, 5.0947, 4.1488, 5.2736, 5.5184, 4.0827, 2.1397, 2.0549, 6.083, 7.139, 5.078, 4.0926, 4.5817, 9.1541, 2.9469, 11.5706, 2.8964, 4.375, 2.5395, 2.2328, 3.6023, 3.1523, 4.9792, 4.1471, 2.9324, 2.9716, 1.9167, 4.1304, 3.5056, 3.8365, 3.2069, 2.1864, 1.8606, 3.9688, 2.4387, 6.0426, 6.2519, 6.3088, 2.125, 4.8311, 1.3929, 5.2533, 3.5437, 2.7457, 3.375, 5.1781, 3.2059, 6.1953, 3.5757, 6.6204, 2.7661, 3.7109, 3.6728, 3.4261, 5.623, 3.5268, 4.7685, 6.0622, 5.5381, 8.5326, 2.6842, 2.3281, 1.0918, 3.05, 3.5781, 11.1978, 2.5, 5.8371, 6.5784, 4.551, 5.399, 3.25, 6.2498, 6.396, 3.7768, 3.6287, 2.7778, 4.3, 5.2881, 1.1915, 2.2, 3.8594, 8.6088, 5.76, 2.9286, 6.1873, 1.8472, 2.1793, 2.3267, 3.3802, 4.0167, 1.5595, 2.5428, 9.0243, 5.0838, 5.6194, 2.3792, 3.0466, 2.401, 1.6331, 4.163, 7.218, 2.5875, 1.5972, 4.9102, 1.7204, 2.0458, 2.3617, 4.1303, 4.1717, 1.775, 10.0549, 6.6689, 4.3512, 10.2811, 4.2463, 1.6154, 3.7049, 4.5707, 3.8021, 2.8448, 1.7132, 4.4529, 6.4333, 2.6321, 6.2817, 6.868, 9.1078, 3.2889, 7.5286, 3.2632, 4.8929, 3.7381, 2.182, 1.7031, 2.0357, 6.8323, 4.6937, 4.3315, 4.0585, 5.8904, 2.7477, 1.3583, 1.8845, 1.7217, 2.225, 4.0231, 1.1528, 3.5313, 1.4821, 2.5062, 1.505, 2.5352, 5.1589, 2.1406, 3.4583, 3.4423, 6.6447, 5.6205, 2.3684, 4.1859, 2.8155, 3.3088, 5.0544, 1.1806, 4.5417, 2.474, 3.1442, 2.9018, 2.5156, 2.8, 2.6094, 4.8, 2.135, 2.5321, 2.0471, 2.7128, 2.0579, 4.1, 2.359, 3.6406, 7.5619, 2.0562, 2.5488, 4.2813, 1.9029, 4.2042, 3.2285, 3.6364, 2.5893, 2.4659, 3.0969, 3.2091, 2.225, 2.369, 4.2237, 2.2222, 4.4107, 3.4231, 1.8514, 4.1842, 1.8316, 4.1016, 5.121, 4.1492, 2.7348, 3.0347, 3.0817, 2.2969, 3.3187, 2.2833, 1.1687, 2.4798, 8.7819, 4.6591, 4.1856, 5.9619, 3.9107, 1.9191, 4.1458, 3.4186, 5.2571, 3.3472, 3.4527, 6.5146, 2.8446, 6.1437, 4.0769, 5.9088, 2.9145, 4.0675, 5.2149, 2.6298, 4.425, 4.1368, 4.1064, 1.1019, 4.1957, 1.8382, 5.1112, 4.1364, 2.925, 4.5, 5.1645, 5.0365, 1.4828, 3.5508, 2.2612, 3.8864, 2.7143, 1.1957, 5.883, 3.8038, 1.1552, 4.5714, 3.7292, 2.933, 7.3588, 1.5833, 3.2708, 15.0001, 5.8548, 2.8631, 1.9028, 2.6673, 2.2007, 5.8519, 2.0508, 5.237, 2.0114, 6.9051, 6.2946, 2.1875, 3.6719, 6.1359, 2.8, 2.5784, 4.2768, 3.1324, 2.7583, 3.538, 9.7912, 3.15, 3.9265, 3.1597, 1.2411, 5.3806, 3.2679, 6.3824, 1.5288, 3.4712, 1.5727, 3.3977, 4.1786, 2.9063, 4.6649, 2.3851, 1.9125, 4.7031, 3.8372, 3.5, 6.0873, 7.6473, 6.983, 10.7958, 5.0267, 3.038, 3.9028, 2.5952, 4.2263, 5.5357, 2.6774, 4.8667, 2.9405, 6.091, 2.4167, 4.7578, 2.6159, 1.9881, 1.8333, 3.0199, 3.1857, 4.4934, 1.4904, 2.5227, 3.653, 1.8456, 3.337, 1.9213, 4.4135, 1.4514, 6.075, 2.325, 2.2604, 3.1583, 3.13, 4.9429, 4.765, 4.6953, 3.8125, 3.375, 3.875, 5.1205, 1.7378, 3.6591, 2.6667, 4.174, 4.2083, 5.208, 3.8125, 4.282, 4.625, 4.5, 1.625, 2.3798, 1.3889, 3.0, 1.0179, 2.9922, 4.3851, 3.5112, 4.6625, 4.4697, 4.8542, 3.0824, 6.8758, 3.1324, 4.05, 3.4107, 3.6528, 3.1439, 6.2475, 3.2846, 2.5437, 1.1875, 2.4811, 5.5676, 3.175, 4.7891, 4.7568, 2.0984, 3.1625, 6.1359, 1.7813, 5.0508, 2.1935, 3.1325, 7.2582, 6.0743, 2.6193, 2.5652, 1.1051, 2.9063, 4.5147, 1.8432, 4.2065, 2.4286, 2.7546, 8.8115, 2.0467, 4.1411, 5.928, 4.0278, 4.7466, 2.75, 2.3382, 2.1979, 7.8924, 6.2984, 5.31, 5.4217, 10.2292, 5.3439, 3.4297, 2.6818, 3.4583, 1.4773, 2.7266, 3.5403, 7.4863, 3.0909, 3.4827, 4.9757, 3.5583, 5.0641, 4.9135, 2.3843, 3.0927, 1.6944, 2.6607, 2.0437, 8.0727, 2.25, 2.3152, 2.4054, 1.8022, 1.5147, 3.4583, 1.675, 5.6336, 4.0125, 2.2326, 6.6579, 4.6912, 3.4323, 15.0001, 3.6467, 3.7738, 1.6675, 2.75, 2.9054, 4.725, 3.7958, 1.9038, 2.3241, 6.4664, 3.24, 2.6417, 3.8512, 1.1384, 6.8429, 5.1194, 1.2275, 5.0292, 1.7976, 3.2083, 3.1361, 7.0504, 2.7316, 4.5135, 2.0708, 4.9107, 3.05, 2.753, 2.1522, 2.5598, 3.8194, 2.6637, 5.485, 2.555, 4.0268, 2.136, 4.3702, 4.635, 2.891, 2.7083, 3.0864, 1.6625, 3.1968, 2.1389, 4.5936, 2.4012, 2.9844, 6.4685, 2.0542, 4.1399, 2.4567, 3.4265, 5.815, 1.7679, 3.6607, 1.5268, 4.4625, 3.4539, 5.3363, 9.8708, 2.364, 3.1548, 3.4886, 2.0875, 6.2456, 5.0947, 3.7321, 6.2308, 2.1667, 4.3571, 4.2955, 1.8929, 4.2562, 6.7273, 4.9904, 2.5122, 4.625, 5.716, 3.7452, 5.8053, 1.2185, 4.4474, 1.9402, 5.3311, 4.0729, 3.1127, 5.0376, 5.6147, 4.5112, 4.5893, 4.7566, 2.5562, 4.3958, 3.4107, 3.1382, 2.0706, 6.0194, 3.9766, 6.7606, 5.2077, 4.5278, 3.0938, 2.5658, 2.7411, 5.6652, 9.0683, 2.7536, 3.0521, 1.8214, 2.1875, 3.8864, 1.5923, 5.549, 1.4427, 5.6349, 2.2, 4.8623, 5.0, 4.1951, 1.9038, 2.825, 5.2864, 4.1765, 2.5797, 4.76, 2.9798, 2.875, 5.0877, 3.9688, 8.6803, 5.742, 2.6364, 4.2415, 2.3125, 6.0076, 2.4943, 2.8056, 3.8088, 4.6437, 2.8321, 3.375, 2.1944, 4.7875, 8.7974, 4.3, 6.0667, 2.3365, 1.8906, 2.8775, 3.8542, 6.9223, 4.3333, 3.6111, 1.8109, 6.4588, 1.5625, 3.25, 6.0434, 5.3889, 2.4429, 4.8854, 3.6625, 4.25, 3.8625, 5.8411, 3.0119, 7.5544, 2.6906, 4.7932, 3.3516, 3.6875, 14.2867, 3.3942, 2.3571, 4.9205, 4.0878, 4.0507, 5.4395, 1.87, 3.7344, 2.4931, 3.2279, 3.588, 3.6, 2.625, 4.2417, 6.207, 4.9615, 4.2415, 2.5833, 3.4519, 2.0217, 2.1135, 4.7569, 6.4789, 8.2375, 3.4375, 3.7583, 15.0001, 6.0398, 2.1603, 2.8393, 2.2639, 2.5326, 1.64, 3.1597, 5.3275, 2.3289, 4.5972, 4.5152, 2.987, 0.8804, 3.6719, 4.9, 1.8571, 4.7984, 5.759, 2.45, 4.0972, 4.0, 5.2865, 3.6587, 4.2917, 5.0261, 1.7011, 3.2857, 1.7945, 2.1, 3.2215, 7.5696, 8.4693, 3.363, 4.0375, 2.8514, 2.037, 1.875, 3.2325, 6.4321, 4.1719, 3.0089, 4.9103, 6.0677, 0.8252, 4.8542, 2.395, 1.9583, 4.325, 3.6875, 6.1426, 4.174, 5.234, 1.7679, 2.1806, 6.4459, 4.5, 0.536, 2.4012, 2.3944, 4.0197, 3.9792, 3.0455, 2.0391, 3.3266, 3.622, 3.1645, 4.7361, 4.6625, 5.2321, 2.25, 3.4028, 3.8088, 3.3884, 3.2583, 2.5673, 4.5179, 2.375, 3.0491, 3.2216, 5.1515, 4.6902, 8.2816, 5.0858, 4.3571, 4.125, 5.3002, 3.335, 6.9754, 3.0288, 2.2054, 3.7933, 3.1979, 4.5, 5.3733, 4.1667, 6.0265, 3.9632, 3.9844, 3.2632, 8.9728, 2.7656, 3.0685, 4.9125, 2.5, 1.3, 4.6452, 2.375, 3.0958, 4.7361, 3.6607, 6.4391, 1.2969, 4.5032, 5.6163, 4.3897, 5.5677, 1.2917, 3.8594, 2.1411, 7.6059, 7.5418, 1.4722, 1.2875, 3.5461, 3.6989, 3.7896, 3.495, 2.9076, 6.5214, 3.4598, 1.4375, 2.8125, 1.4625, 7.2379, 2.8333, 2.3973, 1.8897, 4.119, 5.6762, 3.3398, 3.3831, 2.9271, 2.1767, 3.9306, 2.7011, 5.6949, 1.705, 4.0096, 2.8287, 3.8424, 4.6964, 2.3523, 2.2031, 1.7375, 5.723, 5.049, 2.1771, 4.875, 3.5313, 7.2589, 2.8352, 3.4219, 5.3847, 3.9417, 7.8588, 2.2969, 1.4044, 2.2244, 4.1116, 4.7813, 1.5547, 3.9141, 3.0134, 3.8158, 2.7708, 3.1553, 1.9203, 2.1528, 1.9487, 5.457, 5.3184, 3.6453, 2.5804, 2.5387, 7.7197, 1.8783, 2.7075, 8.0839, 3.15, 2.4632, 4.8, 2.7262, 3.3966, 4.072, 2.0202, 1.7109, 3.1111, 1.2857, 5.7192, 2.1111, 3.6125, 3.2917, 1.7284, 3.4239, 5.3509, 6.2871, 2.5129, 1.468, 0.949, 4.665, 4.5347, 4.4, 6.5987, 2.1964, 4.0714, 3.5187, 1.2222, 3.1505, 3.1599, 2.455, 5.2606, 4.3594, 5.7001, 3.9583, 2.775, 0.9702, 7.723, 4.7391, 2.3276, 4.8906, 4.9464, 2.4444, 4.2075, 2.4263, 7.5412, 3.369, 2.1458, 2.1507, 3.775, 1.7614, 1.5208, 3.9837, 3.2857, 7.4734, 4.125, 4.0, 4.3176, 4.2865, 2.0583, 1.5531, 2.4667, 2.375, 5.4746, 2.2647, 6.0928, 4.4597, 4.4318, 0.5495, 2.625, 5.5636, 4.0556, 2.5, 2.1538, 3.7647, 4.8152, 1.5417, 8.5294, 3.5568, 6.0336, 3.0021, 5.8239, 4.4964, 4.0, 4.194, 4.8295, 4.3164, 3.5039, 2.8036, 2.5417, 3.045, 3.5484, 0.9142, 3.0052, 7.5557, 2.2054, 9.4356, 3.2824, 5.2536, 3.1592, 4.3098, 4.3831, 2.121, 5.0562, 3.724, 1.1806, 0.536, 2.5813, 4.025, 1.825, 2.8994, 3.1053, 4.8316, 3.6875, 2.2937, 2.2982, 4.0132, 7.7364, 1.4766, 1.2175, 4.4094, 2.3159, 4.0417, 2.7043, 1.9718, 6.2236, 5.102, 2.625, 1.5903, 1.6236, 4.0156, 2.3526, 3.4706, 3.8586, 2.4886, 2.5263, 3.4198, 2.7159, 2.7234, 3.4375, 4.7105, 3.5987, 1.9805, 3.6597, 8.3646, 4.2019, 2.5238, 3.5081, 3.7619, 3.3447, 3.0465, 1.858, 6.9772, 2.6652, 3.4531, 3.9444, 4.6354, 4.3851, 2.6149, 1.8472, 4.3218, 4.4667, 3.6563, 5.0941, 7.7068, 4.35, 3.0221, 2.7644, 1.4712, 3.1369, 1.6563, 6.0936, 4.2593, 2.1524, 3.025, 2.3333, 2.535, 2.1343, 3.1062, 4.7861, 2.2827, 2.6266, 4.8304, 7.6144, 3.0341, 2.7031, 7.7307, 7.8164, 3.5673, 2.4519, 7.1221, 1.1434, 3.9567, 5.9522, 2.2156, 3.6875, 5.3267, 4.1635, 3.23, 4.0524, 2.0651, 2.965, 5.2508, 2.5313, 2.4956, 3.7562, 3.0441, 3.3281, 2.8285, 3.1607, 4.4375, 2.6111, 1.8633, 1.1346, 5.3294, 2.5417, 3.2386, 2.6923, 7.1997, 6.2263, 5.1048, 5.5867, 1.179, 3.3906, 2.2895, 3.2708, 8.5608]\n"
     ]
    }
   ],
   "source": [
    "ingreso_medio = df[\"ingreso_medio\"].to_list()\n",
    "print(ingreso_medio)"
   ]
  },
  {
   "cell_type": "markdown",
   "metadata": {},
   "source": [
    "### 19. Encontrar la cantidad de elementos únicos por cada fila y columna con nunique.\n"
   ]
  },
  {
   "cell_type": "code",
   "execution_count": 88,
   "metadata": {},
   "outputs": [
    {
     "name": "stdout",
     "output_type": "stream",
     "text": [
      "longit               607\n",
      "lat                  587\n",
      "edad_media_casa       52\n",
      "habitaciones        2215\n",
      "dormitorios         1055\n",
      "población           1802\n",
      "hogares             1026\n",
      "ingreso_medio       2578\n",
      "valor_medio_casa    1784\n",
      "dtype: int64\n"
     ]
    }
   ],
   "source": [
    "print(df.nunique())"
   ]
  },
  {
   "cell_type": "markdown",
   "metadata": {},
   "source": [
    "### 20. Obtener los elementos distintos de una columna de un DataFrame con unique.\n"
   ]
  },
  {
   "cell_type": "code",
   "execution_count": 89,
   "metadata": {},
   "outputs": [
    {
     "name": "stdout",
     "output_type": "stream",
     "text": [
      "[344700. 176500. 270500. ... 149600. 182500. 237200.]\n"
     ]
    }
   ],
   "source": [
    "print(df[\"valor_medio_casa\"].unique())\n"
   ]
  },
  {
   "cell_type": "markdown",
   "metadata": {},
   "source": [
    "### 21. Obtener los tipos de datos de las columnas de un DataFrame con dtypes.\n"
   ]
  },
  {
   "cell_type": "code",
   "execution_count": 90,
   "metadata": {},
   "outputs": [
    {
     "name": "stdout",
     "output_type": "stream",
     "text": [
      "longit              float64\n",
      "lat                 float64\n",
      "edad_media_casa       int64\n",
      "habitaciones        float64\n",
      "dormitorios         float64\n",
      "población           float64\n",
      "hogares             float64\n",
      "ingreso_medio       float64\n",
      "valor_medio_casa    float64\n",
      "dtype: object\n"
     ]
    }
   ],
   "source": [
    "print(df.dtypes)"
   ]
  },
  {
   "cell_type": "markdown",
   "metadata": {},
   "source": [
    "### 22. Cambiar el tipo de una columna de float a int con la función astype."
   ]
  },
  {
   "cell_type": "code",
   "execution_count": 92,
   "metadata": {},
   "outputs": [
    {
     "name": "stdout",
     "output_type": "stream",
     "text": [
      "longit              float64\n",
      "lat                 float64\n",
      "edad_media_casa       int64\n",
      "habitaciones          int64\n",
      "dormitorios         float64\n",
      "población           float64\n",
      "hogares             float64\n",
      "ingreso_medio       float64\n",
      "valor_medio_casa    float64\n",
      "dtype: object\n"
     ]
    }
   ],
   "source": [
    "df['habitaciones'] = df['habitaciones'].astype(int)\n",
    "print(df.dtypes)"
   ]
  },
  {
   "cell_type": "markdown",
   "metadata": {},
   "source": [
    "### 23. Calcular el número de tipos de datos por cada categoría con get_dtype_counts."
   ]
  },
  {
   "cell_type": "code",
   "execution_count": null,
   "metadata": {},
   "outputs": [
    {
     "name": "stdout",
     "output_type": "stream",
     "text": [
      "float64    7\n",
      "int64      2\n",
      "Name: count, dtype: int64\n"
     ]
    }
   ],
   "source": [
    "#get_dtype_counts() deprecado\n",
    "print(df.dtypes.value_counts())"
   ]
  },
  {
   "cell_type": "markdown",
   "metadata": {},
   "source": [
    "### 24. Contar el número de columnas que tiene un DataFrame."
   ]
  },
  {
   "cell_type": "code",
   "execution_count": 101,
   "metadata": {},
   "outputs": [
    {
     "name": "stdout",
     "output_type": "stream",
     "text": [
      "Numero de columnas: 8\n"
     ]
    }
   ],
   "source": [
    "print(\"Numero de columnas:\",df.columns.values.itemsize)"
   ]
  },
  {
   "cell_type": "markdown",
   "metadata": {},
   "source": [
    "### 25. Obtener la representación en NumPy de un objeto DataFrame."
   ]
  },
  {
   "cell_type": "code",
   "execution_count": 102,
   "metadata": {},
   "outputs": [
    {
     "name": "stdout",
     "output_type": "stream",
     "text": [
      "Representacion: [[-1.22050e+02  3.73700e+01  2.70000e+01 ...  6.06000e+02  6.60850e+00\n",
      "   3.44700e+05]\n",
      " [-1.18300e+02  3.42600e+01  4.30000e+01 ...  2.77000e+02  3.59900e+00\n",
      "   1.76500e+05]\n",
      " [-1.17810e+02  3.37800e+01  2.70000e+01 ...  4.95000e+02  5.79340e+00\n",
      "   2.70500e+05]\n",
      " ...\n",
      " [-1.19700e+02  3.63000e+01  1.00000e+01 ...  2.20000e+02  2.28950e+00\n",
      "   6.20000e+04]\n",
      " [-1.17120e+02  3.41000e+01  4.00000e+01 ...  1.40000e+01  3.27080e+00\n",
      "   1.62500e+05]\n",
      " [-1.19630e+02  3.44200e+01  4.20000e+01 ...  2.60000e+02  8.56080e+00\n",
      "   5.00001e+05]]\n"
     ]
    }
   ],
   "source": [
    "representacion = df.to_numpy()\n",
    "print(\"Representacion:\", representacion)"
   ]
  },
  {
   "cell_type": "markdown",
   "metadata": {},
   "source": [
    "### 26. Crear un objeto DataFrame a partir de objetos Series."
   ]
  },
  {
   "cell_type": "code",
   "execution_count": 17,
   "metadata": {},
   "outputs": [
    {
     "name": "stdout",
     "output_type": "stream",
     "text": [
      "[['Juanmi' 8 'Delantero' 3 0]\n",
      " ['Canales' 6 'Mediocampista' 5 1]\n",
      " ['Fekir' 5 'Mediocampista' 7 0]\n",
      " ['Borja Iglesias' 15 'Delantero' 2 0]\n",
      " ['Guido Rodríguez' 2 'Defensa' 8 1]]\n"
     ]
    },
    {
     "data": {
      "text/html": [
       "<div>\n",
       "<style scoped>\n",
       "    .dataframe tbody tr th:only-of-type {\n",
       "        vertical-align: middle;\n",
       "    }\n",
       "\n",
       "    .dataframe tbody tr th {\n",
       "        vertical-align: top;\n",
       "    }\n",
       "\n",
       "    .dataframe thead th {\n",
       "        text-align: right;\n",
       "    }\n",
       "</style>\n",
       "<table border=\"1\" class=\"dataframe\">\n",
       "  <thead>\n",
       "    <tr style=\"text-align: right;\">\n",
       "      <th></th>\n",
       "      <th>Jugador</th>\n",
       "      <th>Goles</th>\n",
       "      <th>Posicion</th>\n",
       "      <th>Tarjetas Amarillas</th>\n",
       "      <th>Tarjetas Rojas</th>\n",
       "    </tr>\n",
       "  </thead>\n",
       "  <tbody>\n",
       "    <tr>\n",
       "      <th>0</th>\n",
       "      <td>Juanmi</td>\n",
       "      <td>8</td>\n",
       "      <td>Delantero</td>\n",
       "      <td>3</td>\n",
       "      <td>0</td>\n",
       "    </tr>\n",
       "    <tr>\n",
       "      <th>1</th>\n",
       "      <td>Canales</td>\n",
       "      <td>6</td>\n",
       "      <td>Mediocampista</td>\n",
       "      <td>5</td>\n",
       "      <td>1</td>\n",
       "    </tr>\n",
       "    <tr>\n",
       "      <th>2</th>\n",
       "      <td>Fekir</td>\n",
       "      <td>5</td>\n",
       "      <td>Mediocampista</td>\n",
       "      <td>7</td>\n",
       "      <td>0</td>\n",
       "    </tr>\n",
       "    <tr>\n",
       "      <th>3</th>\n",
       "      <td>Borja Iglesias</td>\n",
       "      <td>15</td>\n",
       "      <td>Delantero</td>\n",
       "      <td>2</td>\n",
       "      <td>0</td>\n",
       "    </tr>\n",
       "    <tr>\n",
       "      <th>4</th>\n",
       "      <td>Guido Rodríguez</td>\n",
       "      <td>2</td>\n",
       "      <td>Defensa</td>\n",
       "      <td>8</td>\n",
       "      <td>1</td>\n",
       "    </tr>\n",
       "  </tbody>\n",
       "</table>\n",
       "</div>"
      ],
      "text/plain": [
       "           Jugador Goles       Posicion Tarjetas Amarillas Tarjetas Rojas\n",
       "0           Juanmi     8      Delantero                  3              0\n",
       "1          Canales     6  Mediocampista                  5              1\n",
       "2            Fekir     5  Mediocampista                  7              0\n",
       "3   Borja Iglesias    15      Delantero                  2              0\n",
       "4  Guido Rodríguez     2        Defensa                  8              1"
      ]
     },
     "execution_count": 17,
     "metadata": {},
     "output_type": "execute_result"
    }
   ],
   "source": [
    "jugadores_beti = np.array([\n",
    "    [\"Juanmi\", 8, \"Delantero\", 3, 0],\n",
    "    [\"Canales\", 6, \"Mediocampista\", 5, 1],\n",
    "    [\"Fekir\", 5, \"Mediocampista\", 7, 0],\n",
    "    [\"Borja Iglesias\", 15, \"Delantero\", 2, 0],\n",
    "    [\"Guido Rodríguez\", 2, \"Defensa\", 8, 1]\n",
    "], dtype=object)\n",
    "\n",
    "print(jugadores_beti)\n",
    "\n",
    "df_jugadores_beti = pd.DataFrame(jugadores_beti, columns=[\"Jugador\", \"Goles\", \"Posicion\", \"Tarjetas Amarillas\", \"Tarjetas Rojas\"])\n",
    "df_jugadores_beti"
   ]
  },
  {
   "cell_type": "markdown",
   "metadata": {},
   "source": [
    "## Selección de datos y modificación de Dataframes"
   ]
  },
  {
   "cell_type": "markdown",
   "metadata": {},
   "source": [
    "### 27. Extraer una fila de un DataFrame como un objeto Series."
   ]
  },
  {
   "cell_type": "code",
   "execution_count": 11,
   "metadata": {},
   "outputs": [
    {
     "data": {
      "text/plain": [
       "longitud                  -122.0500\n",
       "latitud                     37.3700\n",
       "edad_media_vivienda         27.0000\n",
       "total_habitaciones        3885.0000\n",
       "total_dormitorios          661.0000\n",
       "población                 1537.0000\n",
       "hogares                    606.0000\n",
       "ingreso_medio                6.6085\n",
       "valor_medio_vivienda    344700.0000\n",
       "Name: 0, dtype: float64"
      ]
     },
     "execution_count": 11,
     "metadata": {},
     "output_type": "execute_result"
    }
   ],
   "source": [
    "serie_fila1 = pd.Series(df.iloc[0])\n",
    "serie_fila1"
   ]
  },
  {
   "cell_type": "markdown",
   "metadata": {},
   "source": [
    "### 28. Cambiar el orden de dos columnas de un objeto DataFrame."
   ]
  },
  {
   "cell_type": "code",
   "execution_count": 28,
   "metadata": {},
   "outputs": [
    {
     "name": "stdout",
     "output_type": "stream",
     "text": [
      "Orden originario:\n",
      "           Jugador Goles       Posicion Tarjetas Amarillas Tarjetas Rojas\n",
      "0           Juanmi     8      Delantero                  3              0\n",
      "1          Canales     6  Mediocampista                  5              1\n",
      "2            Fekir     5  Mediocampista                  7              0\n",
      "3   Borja Iglesias    15      Delantero                  2              0\n",
      "4  Guido Rodríguez     2        Defensa                  8              1\n",
      "\n",
      "Después de modificar el orden de dos columnas:\n",
      "           Jugador       Posicion Goles Tarjetas Rojas Tarjetas Amarillas\n",
      "0           Juanmi      Delantero     8              0                  3\n",
      "1          Canales  Mediocampista     6              1                  5\n",
      "2            Fekir  Mediocampista     5              0                  7\n",
      "3   Borja Iglesias      Delantero    15              0                  2\n",
      "4  Guido Rodríguez        Defensa     2              1                  8\n"
     ]
    }
   ],
   "source": [
    "print(\"Orden originario:\")\n",
    "print(df_jugadores_beti)\n",
    "print(\"\\nDespués de modificar el orden de dos columnas:\")\n",
    "df_jugadores_beti2 = df_jugadores_beti[[\"Jugador\",  \"Posicion\", \"Goles\",\"Tarjetas Rojas\",\"Tarjetas Amarillas\"]]\n",
    "print(df_jugadores_beti2)\n"
   ]
  },
  {
   "cell_type": "markdown",
   "metadata": {},
   "source": [
    "### 29. Crea un DataFrame a partir de uno existente tomando alguna de las columnas del DataFrame existente."
   ]
  },
  {
   "cell_type": "code",
   "execution_count": null,
   "metadata": {},
   "outputs": [
    {
     "name": "stdout",
     "output_type": "stream",
     "text": [
      "           Jugador       Posicion\n",
      "0           Juanmi      Delantero\n",
      "1          Canales  Mediocampista\n",
      "2            Fekir  Mediocampista\n",
      "3   Borja Iglesias      Delantero\n",
      "4  Guido Rodríguez        Defensa\n"
     ]
    }
   ],
   "source": [
    "df_jugadores_posicion = df_jugadores_beti2[[\"Jugador\",\"Posicion\"]]\n",
    "print(df_jugadores_posicion)"
   ]
  },
  {
   "cell_type": "markdown",
   "metadata": {},
   "source": [
    "### 30. Seleccionar todas las columnas de un DataFrame, excepto una en particular."
   ]
  },
  {
   "cell_type": "code",
   "execution_count": 32,
   "metadata": {},
   "outputs": [
    {
     "name": "stdout",
     "output_type": "stream",
     "text": [
      "           Jugador       Posicion Tarjetas Amarillas Tarjetas Rojas\n",
      "0           Juanmi      Delantero                  3              0\n",
      "1          Canales  Mediocampista                  5              1\n",
      "2            Fekir  Mediocampista                  7              0\n",
      "3   Borja Iglesias      Delantero                  2              0\n",
      "4  Guido Rodríguez        Defensa                  8              1\n"
     ]
    }
   ],
   "source": [
    "df_jugadores_beti_sin_goles = df_jugadores_beti.drop(columns=[\"Goles\"])\n",
    "print(df_jugadores_beti_sin_goles)\n",
    "#df_jugadores_beti_sin_goles2 = df_jugadores_beti2[[\"Jugador\",\"Posicion\",\"Tarjetas Amarillas\",\"Tarjetas Rojas\"]]\n",
    "#print(df_jugadores_beti_sin_goles2)"
   ]
  },
  {
   "cell_type": "markdown",
   "metadata": {},
   "source": [
    "### 31. Seleccionar columnas de un objeto DataFrame usando notación de slicing.\n"
   ]
  },
  {
   "cell_type": "code",
   "execution_count": 33,
   "metadata": {},
   "outputs": [
    {
     "name": "stdout",
     "output_type": "stream",
     "text": [
      "   Jugador Goles       Posicion Tarjetas Amarillas Tarjetas Rojas\n",
      "1  Canales     6  Mediocampista                  5              1\n",
      "2    Fekir     5  Mediocampista                  7              0\n"
     ]
    }
   ],
   "source": [
    "print(df_jugadores_beti[1:3])"
   ]
  },
  {
   "cell_type": "markdown",
   "metadata": {},
   "source": [
    "### 32. Comprobar si una columna existe en un DataFrame con el operador Python in."
   ]
  },
  {
   "cell_type": "code",
   "execution_count": 36,
   "metadata": {},
   "outputs": [
    {
     "name": "stdout",
     "output_type": "stream",
     "text": [
      "La columna Goles NO está en este df\n"
     ]
    }
   ],
   "source": [
    "if(\"Goles\" in df_jugadores_beti_sin_goles):\n",
    "    print(\"La columna Goles está en este df\")\n",
    "else:\n",
    "    print(\"La columna Goles NO está en este df\")"
   ]
  },
  {
   "cell_type": "markdown",
   "metadata": {},
   "source": [
    "### 33. Validar con isin si un elemento se halla dentro de un DataFrame.\n"
   ]
  },
  {
   "cell_type": "code",
   "execution_count": null,
   "metadata": {},
   "outputs": [
    {
     "name": "stdout",
     "output_type": "stream",
     "text": [
      "Está el jugador Fekir en el df\n"
     ]
    },
    {
     "data": {
      "text/plain": [
       "pandas.core.frame.DataFrame"
      ]
     },
     "execution_count": 39,
     "metadata": {},
     "output_type": "execute_result"
    }
   ],
   "source": [
    "if df_jugadores_beti[\"Jugador\"].isin([\"Fekir\"]).any():\n",
    "    print(\"Está el jugador Fekir en el df\")\n",
    "else:\n",
    "    print(\"NO Está el jugador Fekir en el df\")\n"
   ]
  },
  {
   "cell_type": "markdown",
   "metadata": {},
   "source": [
    "### 34. Obtener registros a partir de sus índices numéricos con iloc.\n"
   ]
  },
  {
   "cell_type": "code",
   "execution_count": 40,
   "metadata": {},
   "outputs": [
    {
     "name": "stdout",
     "output_type": "stream",
     "text": [
      "Jugador                     Canales\n",
      "Goles                             6\n",
      "Posicion              Mediocampista\n",
      "Tarjetas Amarillas                5\n",
      "Tarjetas Rojas                    1\n",
      "Name: 1, dtype: object\n"
     ]
    }
   ],
   "source": [
    "print(df_jugadores_beti.iloc[1])"
   ]
  },
  {
   "cell_type": "markdown",
   "metadata": {},
   "source": [
    "### 35. Seleccionar filas y columnas específicas de un DataFrame con iloc.\n"
   ]
  },
  {
   "cell_type": "code",
   "execution_count": null,
   "metadata": {},
   "outputs": [
    {
     "name": "stdout",
     "output_type": "stream",
     "text": [
      "df Original:            Jugador Goles       Posicion Tarjetas Amarillas Tarjetas Rojas\n",
      "0           Juanmi     8      Delantero                  3              0\n",
      "1          Canales     6  Mediocampista                  5              1\n",
      "2            Fekir     5  Mediocampista                  7              0\n",
      "3   Borja Iglesias    15      Delantero                  2              0\n",
      "4  Guido Rodríguez     2        Defensa                  8              1\n",
      " \n",
      " filas y columnas específicas:\n",
      "    Jugador Goles       Posicion Tarjetas Amarillas Tarjetas Rojas\n",
      "0   Juanmi     8      Delantero                  3              0\n",
      "1  Canales     6  Mediocampista                  5              1\n"
     ]
    }
   ],
   "source": [
    "print(\"df Original:\",df_jugadores_beti)\n",
    "print(\" \\n filas y columnas específicas:\\n\",df_jugadores_beti.iloc[[0,1]])"
   ]
  },
  {
   "cell_type": "markdown",
   "metadata": {},
   "source": [
    "### 36. Seleccionar filas y columnas a partir de sus nombres con loc.\n"
   ]
  },
  {
   "cell_type": "code",
   "execution_count": 76,
   "metadata": {},
   "outputs": [
    {
     "name": "stdout",
     "output_type": "stream",
     "text": [
      "df Original:            Jugador Goles       Posicion Tarjetas Amarillas Tarjetas Rojas\n",
      "0           Juanmi     8      Delantero                  3              0\n",
      "1          Canales     6  Mediocampista                  5              1\n",
      "2            Fekir     5  Mediocampista                  7              0\n",
      "3   Borja Iglesias    15      Delantero                  2              0\n",
      "4  Guido Rodríguez     2        Defensa                  8              1\n",
      " \n",
      " filas y columnas a partir de sus nombres:\n",
      " Jugador    Canales\n",
      "Goles            6\n",
      "Name: 1, dtype: object\n"
     ]
    }
   ],
   "source": [
    "print(\"df Original:\",df_jugadores_beti)\n",
    "print(\" \\n filas y columnas a partir de sus nombres:\\n\",df_jugadores_beti.loc[1,[\"Jugador\",\"Goles\"]])"
   ]
  },
  {
   "cell_type": "markdown",
   "metadata": {},
   "source": [
    "### 37. Seleccionar registros donde los valores de una columna estén en un rango.\n"
   ]
  },
  {
   "cell_type": "code",
   "execution_count": 79,
   "metadata": {},
   "outputs": [
    {
     "name": "stdout",
     "output_type": "stream",
     "text": [
      "          Jugador Goles       Posicion Tarjetas Amarillas Tarjetas Rojas\n",
      "0          Juanmi     8      Delantero                  3              0\n",
      "1         Canales     6  Mediocampista                  5              1\n",
      "2           Fekir     5  Mediocampista                  7              0\n",
      "3  Borja Iglesias    15      Delantero                  2              0\n"
     ]
    }
   ],
   "source": [
    "masde5goles = df_jugadores_beti[(df_jugadores_beti[\"Goles\"] >= 5)]\n",
    "print(masde5goles)"
   ]
  },
  {
   "cell_type": "markdown",
   "metadata": {},
   "source": [
    "### 38. Seleccionar registros donde se cumpla una condición para valores de una columna.\n"
   ]
  },
  {
   "cell_type": "code",
   "execution_count": 80,
   "metadata": {},
   "outputs": [
    {
     "name": "stdout",
     "output_type": "stream",
     "text": [
      "          Jugador Goles   Posicion Tarjetas Amarillas Tarjetas Rojas\n",
      "0          Juanmi     8  Delantero                  3              0\n",
      "3  Borja Iglesias    15  Delantero                  2              0\n"
     ]
    }
   ],
   "source": [
    "delanteros = df_jugadores_beti[(df_jugadores_beti[\"Posicion\"] == \"Delantero\")]\n",
    "print(delanteros)"
   ]
  }
 ],
 "metadata": {
  "kernelspec": {
   "display_name": "base",
   "language": "python",
   "name": "python3"
  },
  "language_info": {
   "codemirror_mode": {
    "name": "ipython",
    "version": 3
   },
   "file_extension": ".py",
   "mimetype": "text/x-python",
   "name": "python",
   "nbconvert_exporter": "python",
   "pygments_lexer": "ipython3",
   "version": "3.12.7"
  }
 },
 "nbformat": 4,
 "nbformat_minor": 2
}
